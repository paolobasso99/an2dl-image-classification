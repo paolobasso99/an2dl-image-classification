{
  "cells": [
    {
      "cell_type": "markdown",
      "metadata": {
        "id": "J4vgR0KeLw_r"
      },
      "source": [
        "# Image Classification challange AN2DL Politecnico di Milano 2022\n",
        "In this notebook there is the definition of the model used for the [AN2DL image classification challange 2022](https://web.archive.org/web/20221129163804/https://codalab.lisn.upsaclay.fr/competitions/8522).\n",
        "\n",
        "We expect this file to run in a directory where there is a subdirectory with the data at `data/training_data_final` or `data/training_dataset_homework1.zip` (if using Colab you need the zip)."
      ]
    },
    {
      "cell_type": "markdown",
      "metadata": {
        "id": "o95eDLSKL98C"
      },
      "source": [
        "## Notebook settings\n",
        "Here the general settings of the notebook are defined.\n",
        "- IS_COLAB: True if you are running the notebook from Colab\n",
        "- COLAB_BASE_DIR: The base directory in Google Drive if you are using Colab\n",
        "- USE_WHOLE_DATASET: If false use a validation split with early stopping for the training, if true you need to specify the number of epochs and the whole dataset is used for training"
      ]
    },
    {
      "cell_type": "code",
      "execution_count": null,
      "metadata": {
        "id": "QAm-Tbmu0UHJ"
      },
      "outputs": [],
      "source": [
        "IS_COLAB = True\n",
        "COLAB_BASE_DIR = '/gdrive/MyDrive/2022_AN2DL/Homework1/' # Change this!\n",
        "USE_WHOLE_DATASET = False # if True do not perform validation and analysis, just train with all the data"
      ]
    },
    {
      "cell_type": "markdown",
      "metadata": {
        "id": "3c2SNSm2jmP2"
      },
      "source": [
        "### Connect to Drive"
      ]
    },
    {
      "cell_type": "code",
      "execution_count": null,
      "metadata": {
        "colab": {
          "base_uri": "https://localhost:8080/"
        },
        "id": "EIpf1OwBjSZt",
        "outputId": "a33ac663-823b-4292-fa5c-443c24ea3f55"
      },
      "outputs": [
        {
          "name": "stdout",
          "output_type": "stream",
          "text": [
            "Mounted at /gdrive\n"
          ]
        }
      ],
      "source": [
        "if IS_COLAB:\n",
        "  from google.colab import drive\n",
        "  drive.mount('/gdrive')"
      ]
    },
    {
      "cell_type": "markdown",
      "metadata": {
        "id": "fG8aqj5cj6Te"
      },
      "source": [
        "### Import Libraries"
      ]
    },
    {
      "cell_type": "code",
      "execution_count": null,
      "metadata": {
        "id": "vySkVcKwMKtE"
      },
      "outputs": [],
      "source": [
        "if IS_COLAB:\n",
        "  !pip install tensorflow==2.10\n",
        "  !pip install keras-cv"
      ]
    },
    {
      "cell_type": "code",
      "execution_count": null,
      "metadata": {
        "colab": {
          "base_uri": "https://localhost:8080/"
        },
        "id": "93XfknDVj3SS",
        "outputId": "aa2667f0-868d-4632-bf82-056b1a4b19bc"
      },
      "outputs": [
        {
          "name": "stdout",
          "output_type": "stream",
          "text": [
            "2.10.0\n"
          ]
        }
      ],
      "source": [
        "import tensorflow as tf\n",
        "import keras_cv\n",
        "import numpy as np\n",
        "import pandas as pd\n",
        "import matplotlib.pyplot as plt\n",
        "import os\n",
        "from shutil import copyfile, make_archive, unpack_archive\n",
        "import random\n",
        "import sklearn as scikit_learn\n",
        "from datetime import datetime\n",
        "\n",
        "tfk = tf.keras\n",
        "tfkl = tf.keras.layers\n",
        "print(tf.__version__)"
      ]
    },
    {
      "cell_type": "markdown",
      "metadata": {
        "id": "fmOVTwuqk86y"
      },
      "source": [
        "### Seed for reproducibility"
      ]
    },
    {
      "cell_type": "code",
      "execution_count": null,
      "metadata": {
        "id": "FDsi-HITkb0w"
      },
      "outputs": [],
      "source": [
        "seed = 42\n",
        "\n",
        "random.seed(seed)\n",
        "os.environ['PYTHONHASHSEED'] = str(seed)\n",
        "np.random.seed(seed)\n",
        "tf.random.set_seed(seed)\n",
        "tf.compat.v1.set_random_seed(seed)"
      ]
    },
    {
      "cell_type": "markdown",
      "metadata": {
        "id": "998HGyQmlZNt"
      },
      "source": [
        "## Dataset"
      ]
    },
    {
      "cell_type": "markdown",
      "metadata": {
        "id": "GCd6xEjWMdM5"
      },
      "source": [
        "Load the data in Tensorflow's datasets."
      ]
    },
    {
      "cell_type": "code",
      "execution_count": null,
      "metadata": {
        "id": "FH3eNo42Mj1o"
      },
      "outputs": [],
      "source": [
        "ROOT_DIR = os.getcwd()\n",
        "DATA_DIR = 'data/training_data_final'\n",
        "\n",
        "if not os.path.exists('data'):\n",
        "    os.mkdir(\"data\")\n",
        "\n",
        "if not os.path.exists(DATA_DIR):\n",
        "  if IS_COLAB:\n",
        "    copyfile(COLAB_BASE_DIR + 'data/training_dataset_homework1.zip', 'data/training_dataset_homework1.zip')\n",
        "  if os.path.isfile(\"data/training_dataset_homework1.zip\"):\n",
        "    unpack_archive(\"data/training_dataset_homework1.zip\", \"data\")\n",
        "  else:\n",
        "    raise RuntimeError(\"please unzip data/training_dataset_homework1.zip\")"
      ]
    },
    {
      "cell_type": "code",
      "execution_count": null,
      "metadata": {
        "colab": {
          "base_uri": "https://localhost:8080/"
        },
        "id": "dA0m77C1lad3",
        "outputId": "569f7313-b98d-4f96-e7f7-f6c482e76d31"
      },
      "outputs": [
        {
          "name": "stdout",
          "output_type": "stream",
          "text": [
            "Found 3542 files belonging to 8 classes.\n",
            "Using 3100 files for training.\n",
            "Found 3542 files belonging to 8 classes.\n",
            "Using 442 files for validation.\n"
          ]
        }
      ],
      "source": [
        "VALIDATION_SPLIT = 0.125\n",
        "BATCH_SIZE = 64\n",
        "\n",
        "IMG_SIZE = (96,96)\n",
        "IMG_SHAPE = IMG_SIZE + (3,)\n",
        "N_CLASSES = 8\n",
        "\n",
        "if USE_WHOLE_DATASET:\n",
        "    complete_set = tf.keras.utils.image_dataset_from_directory(\n",
        "        DATA_DIR,\n",
        "        labels='inferred',\n",
        "        label_mode='categorical',\n",
        "        color_mode='rgb',\n",
        "        batch_size=BATCH_SIZE,\n",
        "        image_size=IMG_SIZE,\n",
        "        shuffle=True,\n",
        "        seed=seed,\n",
        "    )\n",
        "else:\n",
        "    training_set = tf.keras.utils.image_dataset_from_directory(\n",
        "        DATA_DIR,\n",
        "        labels='inferred',\n",
        "        label_mode='categorical',\n",
        "        class_names = None,\n",
        "        color_mode='rgb',\n",
        "        batch_size=BATCH_SIZE,\n",
        "        image_size=(96,96),\n",
        "        shuffle=True,\n",
        "        seed=seed,\n",
        "        validation_split=VALIDATION_SPLIT,\n",
        "        subset='training'\n",
        "    )\n",
        "\n",
        "    validation_set = tf.keras.utils.image_dataset_from_directory(\n",
        "        DATA_DIR,\n",
        "        labels='inferred',\n",
        "        label_mode='categorical',\n",
        "        class_names = None,\n",
        "        color_mode='rgb',\n",
        "        batch_size=BATCH_SIZE,\n",
        "        image_size=(96,96),\n",
        "        shuffle=True,\n",
        "        seed=seed,\n",
        "        validation_split=VALIDATION_SPLIT,\n",
        "        subset='validation'\n",
        "    )\n"
      ]
    },
    {
      "cell_type": "markdown",
      "metadata": {
        "id": "4iNJ3LIE5z3C"
      },
      "source": [
        "### Autotune"
      ]
    },
    {
      "cell_type": "markdown",
      "metadata": {
        "id": "PHXFh_jGM2fs"
      },
      "source": [
        "Improve the dataset performances."
      ]
    },
    {
      "cell_type": "code",
      "execution_count": null,
      "metadata": {
        "id": "WHmVtaxA5v_-"
      },
      "outputs": [],
      "source": [
        "AUTOTUNE = tf.data.AUTOTUNE\n",
        "\n",
        "if USE_WHOLE_DATASET:\n",
        "  complete_set = complete_set.cache().shuffle(1000).prefetch(buffer_size=AUTOTUNE)\n",
        "else:\n",
        "  training_set = training_set.cache().shuffle(1000).prefetch(buffer_size=AUTOTUNE)\n",
        "  validation_set = validation_set.cache().prefetch(buffer_size=AUTOTUNE)"
      ]
    },
    {
      "cell_type": "markdown",
      "metadata": {
        "id": "236ZDmLEydfo"
      },
      "source": [
        "### Data Augmentation"
      ]
    },
    {
      "cell_type": "markdown",
      "metadata": {
        "id": "0gzGjmsvNAui"
      },
      "source": [
        "#### Cutmix and Mixup\n",
        "We used the [CutMix regularization strategy](https://arxiv.org/abs/1905.04899) and the Mixup stragegy (one of the two for each image)."
      ]
    },
    {
      "cell_type": "code",
      "execution_count": null,
      "metadata": {
        "id": "6iehi0BHsGUt"
      },
      "outputs": [],
      "source": [
        "def preprocess(img, label):\n",
        "    img = tf.image.convert_image_dtype(img, tf.float32)\n",
        "    img = tf.cast(img, tf.float32)\n",
        "    return {\"images\": img, \"labels\": label}\n",
        "\n",
        "def prep_for_model(inputs):\n",
        "    images, labels = inputs[\"images\"], inputs[\"labels\"]\n",
        "    images = tf.cast(images, tf.float32)\n",
        "    return images, labels\n",
        "    \n",
        "def cutmix_or_mixup(samples):\n",
        "    if tf.random.uniform(()) > 0.5:\n",
        "        samples = keras_cv.layers.CutMix()(samples)\n",
        "    else:\n",
        "        samples = keras_cv.layers.MixUp()(samples)\n",
        "    return samples\n",
        "\n",
        "if USE_WHOLE_DATASET:\n",
        "  complete_set_cm = complete_set.map(preprocess).map(cutmix_or_mixup).map(prep_for_model)\n",
        "else:\n",
        "  training_set_cm = training_set.map(preprocess).map(cutmix_or_mixup).map(prep_for_model)"
      ]
    },
    {
      "cell_type": "markdown",
      "metadata": {
        "id": "d1W7hZYFNP0r"
      },
      "source": [
        "#### Other data augmentation in the pipeline"
      ]
    },
    {
      "cell_type": "code",
      "execution_count": null,
      "metadata": {
        "id": "enoi1Lbu7n6i"
      },
      "outputs": [],
      "source": [
        "data_augmentation = tf.keras.Sequential([\n",
        "  tf.keras.layers.RandomFlip(\"horizontal_and_vertical\"),\n",
        "  tf.keras.layers.RandomRotation(factor=0.35, fill_mode='reflect'),\n",
        "  tf.keras.layers.RandomZoom(height_factor=-0.15),\n",
        "], name='data_augmentation')"
      ]
    },
    {
      "cell_type": "markdown",
      "metadata": {
        "id": "QWy3yyAdNVOa"
      },
      "source": [
        "Plot Data Augmentation results:"
      ]
    },
    {
      "cell_type": "code",
      "execution_count": null,
      "metadata": {
        "id": "YIvGSPxye7D3"
      },
      "outputs": [],
      "source": [
        "if USE_WHOLE_DATASET:\n",
        "  image_batch, label_batch = next(iter(complete_set_cm))\n",
        "else:\n",
        "  image_batch, label_batch = next(iter(training_set_cm))\n",
        "\n",
        "plt.figure(figsize=(10, 10))\n",
        "first_image = image_batch[0]\n",
        "for i in range(9):\n",
        "  ax = plt.subplot(3, 3, i + 1)\n",
        "  augmented_image = data_augmentation(tf.expand_dims(first_image, 0))\n",
        "  plt.imshow(augmented_image[0] / 255)\n",
        "  plt.axis('off')"
      ]
    },
    {
      "cell_type": "markdown",
      "metadata": {
        "id": "25vqcMtsA3sj"
      },
      "source": [
        "## Model\n",
        "Here we will define our model.\n",
        "\n",
        "We decided to use the ConvNeXtLarge network with the weights initialized to the imagenet dataset. However, we retrained the whole network (excluding batch normalization layers) using the original weights only as initialization.\n",
        "\n",
        "Our strategy still followed the one of fine tuning, even thought we retrained the whole model, because it yielded better results:\n",
        "1. Train only the classification part\n",
        "2. Retrain the whole network togheter"
      ]
    },
    {
      "cell_type": "markdown",
      "metadata": {
        "id": "8xz8Opn6NrDq"
      },
      "source": [
        "### Model definition"
      ]
    },
    {
      "cell_type": "markdown",
      "metadata": {
        "id": "zo3js1AcNtoa"
      },
      "source": [
        "General hyperparameters:"
      ]
    },
    {
      "cell_type": "code",
      "execution_count": null,
      "metadata": {
        "id": "IUOvRpNG7QWY"
      },
      "outputs": [],
      "source": [
        "if USE_WHOLE_DATASET:\n",
        "  model_EPOCHS = 40\n",
        "else:\n",
        "  model_MAX_EPOCHS = 200\n",
        "  model_EARLY_STOPPING_PATIENCE = 19\n",
        "\n",
        "model_LEARNING_RATE = 1e-3\n",
        "model_OPTIMIZER = tf.keras.optimizers.Adam(model_LEARNING_RATE)\n",
        "model_LOSS = tf.keras.losses.CategoricalCrossentropy()"
      ]
    },
    {
      "cell_type": "markdown",
      "metadata": {
        "id": "NFIsGO_5OAWl"
      },
      "source": [
        "We use the ConvNextLarge supernet, initialized with the imagenet weights."
      ]
    },
    {
      "cell_type": "code",
      "execution_count": null,
      "metadata": {
        "colab": {
          "base_uri": "https://localhost:8080/"
        },
        "id": "MTeHCipX9CYM",
        "outputId": "571f81b8-ba07-4244-de95-35f5a33217dd"
      },
      "outputs": [
        {
          "name": "stdout",
          "output_type": "stream",
          "text": [
            "Downloading data from https://storage.googleapis.com/tensorflow/keras-applications/convnext/convnext_large_notop.h5\n",
            "785596384/785596384 [==============================] - 4s 0us/step\n"
          ]
        }
      ],
      "source": [
        "model_supernet = tf.keras.applications.convnext.ConvNeXtLarge(\n",
        "    input_shape = IMG_SHAPE,\n",
        "    include_top = False,\n",
        "    weights='imagenet'\n",
        ")\n",
        "model_supernet.trainable = False"
      ]
    },
    {
      "cell_type": "markdown",
      "metadata": {
        "id": "R1suzDeVOJ9E"
      },
      "source": [
        "We noticed that the classes are imbalanced so we used [class weighting](https://www.tensorflow.org/tutorials/structured_data/imbalanced_data#class_weights)"
      ]
    },
    {
      "cell_type": "code",
      "execution_count": null,
      "metadata": {
        "colab": {
          "base_uri": "https://localhost:8080/"
        },
        "id": "0aemL8w0Jqu3",
        "outputId": "1d5be400-49d8-4528-9eeb-f3da5eb20235"
      },
      "outputs": [
        {
          "name": "stdout",
          "output_type": "stream",
          "text": [
            "Found 3542 images belonging to 8 classes.\n",
            "{0: 2.3803763440860215, 1: 0.8322368421052632, 2: 0.8597087378640776, 3: 0.8664383561643836, 4: 0.833804143126177, 5: 1.9943693693693694, 6: 0.824487895716946, 7: 0.8715551181102362}\n"
          ]
        }
      ],
      "source": [
        "datagen = tf.keras.preprocessing.image.ImageDataGenerator()\n",
        "data = datagen.flow_from_directory(DATA_DIR)\n",
        "unique = np.unique(data.classes, return_counts=True)\n",
        "\n",
        "class_weights = scikit_learn.utils.compute_class_weight('balanced', classes = np.unique(data.classes), y=data.classes)\n",
        "\n",
        "class_weights_dict = dict(enumerate(class_weights.flatten()))\n",
        "\n",
        "print(class_weights_dict)"
      ]
    },
    {
      "cell_type": "markdown",
      "metadata": {
        "id": "bx6pIKXCOUCs"
      },
      "source": [
        "We used anti-overfitting techniques such as dropout and L1L2 regularization."
      ]
    },
    {
      "cell_type": "code",
      "execution_count": null,
      "metadata": {
        "colab": {
          "base_uri": "https://localhost:8080/"
        },
        "id": "vVvtRONy9Oey",
        "outputId": "386e3222-175c-4943-f1c8-2175a672661f"
      },
      "outputs": [
        {
          "name": "stderr",
          "output_type": "stream",
          "text": [
            "WARNING:tensorflow:Using a while_loop for converting RngReadAndSkip cause there is no registered converter for this op.\n",
            "WARNING:tensorflow:Using a while_loop for converting Bitcast cause there is no registered converter for this op.\n",
            "WARNING:tensorflow:Using a while_loop for converting Bitcast cause there is no registered converter for this op.\n",
            "WARNING:tensorflow:Using a while_loop for converting StatelessRandomUniformV2 cause there is no registered converter for this op.\n",
            "WARNING:tensorflow:Using a while_loop for converting ImageProjectiveTransformV3 cause there is no registered converter for this op.\n",
            "WARNING:tensorflow:Using a while_loop for converting RngReadAndSkip cause there is no registered converter for this op.\n",
            "WARNING:tensorflow:Using a while_loop for converting Bitcast cause there is no registered converter for this op.\n",
            "WARNING:tensorflow:Using a while_loop for converting Bitcast cause there is no registered converter for this op.\n",
            "WARNING:tensorflow:Using a while_loop for converting StatelessRandomUniformV2 cause there is no registered converter for this op.\n",
            "WARNING:tensorflow:Using a while_loop for converting ImageProjectiveTransformV3 cause there is no registered converter for this op.\n",
            "WARNING:tensorflow:Using a while_loop for converting RngReadAndSkip cause there is no registered converter for this op.\n",
            "WARNING:tensorflow:Using a while_loop for converting Bitcast cause there is no registered converter for this op.\n",
            "WARNING:tensorflow:Using a while_loop for converting Bitcast cause there is no registered converter for this op.\n",
            "WARNING:tensorflow:Using a while_loop for converting StatelessRandomUniformV2 cause there is no registered converter for this op.\n",
            "WARNING:tensorflow:Using a while_loop for converting ImageProjectiveTransformV3 cause there is no registered converter for this op.\n",
            "WARNING:tensorflow:Using a while_loop for converting RngReadAndSkip cause there is no registered converter for this op.\n",
            "WARNING:tensorflow:Using a while_loop for converting Bitcast cause there is no registered converter for this op.\n",
            "WARNING:tensorflow:Using a while_loop for converting Bitcast cause there is no registered converter for this op.\n",
            "WARNING:tensorflow:Using a while_loop for converting StatelessRandomUniformV2 cause there is no registered converter for this op.\n",
            "WARNING:tensorflow:Using a while_loop for converting ImageProjectiveTransformV3 cause there is no registered converter for this op.\n"
          ]
        }
      ],
      "source": [
        "model = tf.keras.Sequential([\n",
        "    tf.keras.Input(shape=IMG_SHAPE, name=\"input_layer\"),\n",
        "    data_augmentation,\n",
        "    tf.keras.layers.Lambda(tf.keras.applications.convnext.preprocess_input, name='supernet_preprocessing'),\n",
        "    model_supernet,\n",
        "    tf.keras.layers.Flatten(),\n",
        "    tf.keras.layers.Dropout(0.39),\n",
        "    tf.keras.layers.Dense(1024, activation='relu', kernel_regularizer=tf.keras.regularizers.L1L2(1e-3), kernel_initializer=tfk.initializers.HeUniform(seed)),\n",
        "    tf.keras.layers.Dense(512, activation='relu', kernel_regularizer=tf.keras.regularizers.L1L2(1e-3), kernel_initializer=tfk.initializers.HeUniform(seed)),\n",
        "    tf.keras.layers.Dropout(0.33),\n",
        "    tf.keras.layers.Dense(N_CLASSES, activation='softmax', kernel_initializer=tf.keras.initializers.GlorotUniform(seed), name='output_layer')\n",
        "], name = \"ConvNextLarge_final_2nd\")"
      ]
    },
    {
      "cell_type": "code",
      "execution_count": null,
      "metadata": {
        "colab": {
          "base_uri": "https://localhost:8080/"
        },
        "id": "InXaE1Zb7KH5",
        "outputId": "6269d89c-1ad5-4eb0-b6b5-6ff66a6b7022"
      },
      "outputs": [
        {
          "name": "stdout",
          "output_type": "stream",
          "text": [
            "Model: \"ConvNextLarge_final_2nd\"\n",
            "_________________________________________________________________\n",
            " Layer (type)                Output Shape              Param #   \n",
            "=================================================================\n",
            " data_augmentation (Sequenti  (None, 96, 96, 3)        0         \n",
            " al)                                                             \n",
            "                                                                 \n",
            " supernet_preprocessing (Lam  (None, 96, 96, 3)        0         \n",
            " bda)                                                            \n",
            "                                                                 \n",
            " convnext_large (Functional)  (None, 3, 3, 1536)       196230336 \n",
            "                                                                 \n",
            " flatten (Flatten)           (None, 13824)             0         \n",
            "                                                                 \n",
            " dropout (Dropout)           (None, 13824)             0         \n",
            "                                                                 \n",
            " dense (Dense)               (None, 1024)              14156800  \n",
            "                                                                 \n",
            " dense_1 (Dense)             (None, 512)               524800    \n",
            "                                                                 \n",
            " dropout_1 (Dropout)         (None, 512)               0         \n",
            "                                                                 \n",
            " output_layer (Dense)        (None, 8)                 4104      \n",
            "                                                                 \n",
            "=================================================================\n",
            "Total params: 210,916,040\n",
            "Trainable params: 14,685,704\n",
            "Non-trainable params: 196,230,336\n",
            "_________________________________________________________________\n"
          ]
        }
      ],
      "source": [
        "model.compile(loss=model_LOSS, optimizer=model_OPTIMIZER, metrics='accuracy')\n",
        "model.summary()"
      ]
    },
    {
      "cell_type": "markdown",
      "metadata": {
        "id": "l7XOptlqCv16"
      },
      "source": [
        "### Classification head first training"
      ]
    },
    {
      "cell_type": "code",
      "execution_count": null,
      "metadata": {
        "colab": {
          "base_uri": "https://localhost:8080/"
        },
        "id": "eRJV1Mz8BxEf",
        "outputId": "c0fc266b-b6fc-4f5a-a322-978d3c028b93"
      },
      "outputs": [
        {
          "name": "stdout",
          "output_type": "stream",
          "text": [
            "Epoch 1/200\n"
          ]
        },
        {
          "name": "stderr",
          "output_type": "stream",
          "text": [
            "WARNING:tensorflow:Using a while_loop for converting RngReadAndSkip cause there is no registered converter for this op.\n",
            "WARNING:tensorflow:Using a while_loop for converting Bitcast cause there is no registered converter for this op.\n",
            "WARNING:tensorflow:Using a while_loop for converting Bitcast cause there is no registered converter for this op.\n",
            "WARNING:tensorflow:Using a while_loop for converting StatelessRandomUniformV2 cause there is no registered converter for this op.\n",
            "WARNING:tensorflow:Using a while_loop for converting ImageProjectiveTransformV3 cause there is no registered converter for this op.\n",
            "WARNING:tensorflow:Using a while_loop for converting RngReadAndSkip cause there is no registered converter for this op.\n",
            "WARNING:tensorflow:Using a while_loop for converting Bitcast cause there is no registered converter for this op.\n",
            "WARNING:tensorflow:Using a while_loop for converting Bitcast cause there is no registered converter for this op.\n",
            "WARNING:tensorflow:Using a while_loop for converting StatelessRandomUniformV2 cause there is no registered converter for this op.\n",
            "WARNING:tensorflow:Using a while_loop for converting ImageProjectiveTransformV3 cause there is no registered converter for this op.\n",
            "WARNING:tensorflow:Using a while_loop for converting RngReadAndSkip cause there is no registered converter for this op.\n",
            "WARNING:tensorflow:Using a while_loop for converting Bitcast cause there is no registered converter for this op.\n",
            "WARNING:tensorflow:Using a while_loop for converting Bitcast cause there is no registered converter for this op.\n",
            "WARNING:tensorflow:Using a while_loop for converting StatelessRandomUniformV2 cause there is no registered converter for this op.\n",
            "WARNING:tensorflow:Using a while_loop for converting ImageProjectiveTransformV3 cause there is no registered converter for this op.\n",
            "WARNING:tensorflow:Using a while_loop for converting RngReadAndSkip cause there is no registered converter for this op.\n",
            "WARNING:tensorflow:Using a while_loop for converting Bitcast cause there is no registered converter for this op.\n",
            "WARNING:tensorflow:Using a while_loop for converting Bitcast cause there is no registered converter for this op.\n",
            "WARNING:tensorflow:Using a while_loop for converting StatelessRandomUniformV2 cause there is no registered converter for this op.\n",
            "WARNING:tensorflow:Using a while_loop for converting ImageProjectiveTransformV3 cause there is no registered converter for this op.\n"
          ]
        },
        {
          "name": "stdout",
          "output_type": "stream",
          "text": [
            "49/49 [==============================] - 284s 2s/step - loss: 96.0844 - accuracy: 0.2855 - val_loss: 37.0686 - val_accuracy: 0.5181\n",
            "Epoch 2/200\n",
            "49/49 [==============================] - 36s 734ms/step - loss: 21.4093 - accuracy: 0.3935 - val_loss: 12.9503 - val_accuracy: 0.4615\n",
            "Epoch 3/200\n",
            "49/49 [==============================] - 39s 792ms/step - loss: 11.0188 - accuracy: 0.3735 - val_loss: 9.0024 - val_accuracy: 0.5385\n",
            "Epoch 4/200\n",
            "49/49 [==============================] - 37s 758ms/step - loss: 8.3340 - accuracy: 0.4129 - val_loss: 6.8614 - val_accuracy: 0.6109\n",
            "Epoch 5/200\n",
            "49/49 [==============================] - 37s 758ms/step - loss: 6.8633 - accuracy: 0.4403 - val_loss: 5.8204 - val_accuracy: 0.6312\n",
            "Epoch 6/200\n",
            "49/49 [==============================] - 37s 748ms/step - loss: 6.0124 - accuracy: 0.4294 - val_loss: 5.1210 - val_accuracy: 0.5747\n",
            "Epoch 7/200\n",
            "49/49 [==============================] - 37s 757ms/step - loss: 5.3464 - accuracy: 0.4635 - val_loss: 4.5430 - val_accuracy: 0.6425\n",
            "Epoch 8/200\n",
            "49/49 [==============================] - 38s 781ms/step - loss: 4.9363 - accuracy: 0.4603 - val_loss: 4.3833 - val_accuracy: 0.5498\n",
            "Epoch 9/200\n",
            "49/49 [==============================] - 37s 756ms/step - loss: 4.6327 - accuracy: 0.4797 - val_loss: 3.8883 - val_accuracy: 0.6584\n",
            "Epoch 10/200\n",
            "49/49 [==============================] - 36s 745ms/step - loss: 4.3673 - accuracy: 0.4939 - val_loss: 3.7249 - val_accuracy: 0.6357\n",
            "Epoch 11/200\n",
            "49/49 [==============================] - 37s 746ms/step - loss: 4.2978 - accuracy: 0.4758 - val_loss: 3.5759 - val_accuracy: 0.6471\n",
            "Epoch 12/200\n",
            "49/49 [==============================] - 36s 743ms/step - loss: 4.1093 - accuracy: 0.4955 - val_loss: 3.5632 - val_accuracy: 0.5882\n",
            "Epoch 13/200\n",
            "49/49 [==============================] - 38s 779ms/step - loss: 4.0000 - accuracy: 0.5039 - val_loss: 3.4646 - val_accuracy: 0.5995\n",
            "Epoch 14/200\n",
            "49/49 [==============================] - 42s 866ms/step - loss: 3.9360 - accuracy: 0.4977 - val_loss: 3.3376 - val_accuracy: 0.6855\n",
            "Epoch 15/200\n",
            "49/49 [==============================] - 41s 837ms/step - loss: 3.8876 - accuracy: 0.5016 - val_loss: 3.2727 - val_accuracy: 0.7127\n",
            "Epoch 16/200\n",
            "49/49 [==============================] - 37s 758ms/step - loss: 3.8852 - accuracy: 0.4994 - val_loss: 3.1691 - val_accuracy: 0.7353\n",
            "Epoch 17/200\n",
            "49/49 [==============================] - 38s 781ms/step - loss: 3.8273 - accuracy: 0.5055 - val_loss: 3.1377 - val_accuracy: 0.7240\n",
            "Epoch 18/200\n",
            "49/49 [==============================] - 37s 747ms/step - loss: 3.7557 - accuracy: 0.5245 - val_loss: 3.2329 - val_accuracy: 0.6244\n",
            "Epoch 19/200\n",
            "49/49 [==============================] - 37s 745ms/step - loss: 3.7977 - accuracy: 0.5048 - val_loss: 3.1587 - val_accuracy: 0.7330\n",
            "Epoch 20/200\n",
            "49/49 [==============================] - 36s 744ms/step - loss: 3.7391 - accuracy: 0.5271 - val_loss: 3.1052 - val_accuracy: 0.7081\n",
            "Epoch 21/200\n",
            "49/49 [==============================] - 36s 744ms/step - loss: 3.7598 - accuracy: 0.5242 - val_loss: 3.1389 - val_accuracy: 0.6900\n",
            "Epoch 22/200\n",
            "49/49 [==============================] - 36s 741ms/step - loss: 3.7524 - accuracy: 0.5165 - val_loss: 3.1817 - val_accuracy: 0.6629\n",
            "Epoch 23/200\n",
            "49/49 [==============================] - 38s 776ms/step - loss: 3.7112 - accuracy: 0.5052 - val_loss: 3.1529 - val_accuracy: 0.6493\n",
            "Epoch 24/200\n",
            "49/49 [==============================] - 38s 784ms/step - loss: 3.6885 - accuracy: 0.5326 - val_loss: 3.1064 - val_accuracy: 0.7014\n",
            "Epoch 25/200\n",
            "49/49 [==============================] - 37s 753ms/step - loss: 3.7384 - accuracy: 0.5190 - val_loss: 3.1017 - val_accuracy: 0.6900\n",
            "Epoch 26/200\n",
            "49/49 [==============================] - 36s 743ms/step - loss: 3.7098 - accuracy: 0.5281 - val_loss: 3.1562 - val_accuracy: 0.6561\n",
            "Epoch 27/200\n",
            "49/49 [==============================] - 36s 744ms/step - loss: 3.7211 - accuracy: 0.5129 - val_loss: 3.1266 - val_accuracy: 0.6471\n",
            "Epoch 28/200\n",
            "49/49 [==============================] - 38s 777ms/step - loss: 3.7049 - accuracy: 0.5232 - val_loss: 3.0877 - val_accuracy: 0.7036\n",
            "Epoch 29/200\n",
            "49/49 [==============================] - 38s 779ms/step - loss: 3.7211 - accuracy: 0.5097 - val_loss: 3.0492 - val_accuracy: 0.7104\n",
            "Epoch 30/200\n",
            "49/49 [==============================] - 36s 741ms/step - loss: 3.7777 - accuracy: 0.5232 - val_loss: 3.0545 - val_accuracy: 0.7240\n",
            "Epoch 31/200\n",
            "49/49 [==============================] - 36s 742ms/step - loss: 3.6924 - accuracy: 0.5306 - val_loss: 3.2315 - val_accuracy: 0.6222\n",
            "Epoch 32/200\n",
            "49/49 [==============================] - 36s 739ms/step - loss: 3.7788 - accuracy: 0.5148 - val_loss: 3.2311 - val_accuracy: 0.6425\n",
            "Epoch 33/200\n",
            "49/49 [==============================] - 39s 790ms/step - loss: 3.7495 - accuracy: 0.5248 - val_loss: 3.0566 - val_accuracy: 0.7579\n",
            "Epoch 34/200\n",
            "49/49 [==============================] - 36s 739ms/step - loss: 3.7812 - accuracy: 0.5087 - val_loss: 3.2942 - val_accuracy: 0.6425\n",
            "Epoch 35/200\n",
            "49/49 [==============================] - 36s 742ms/step - loss: 3.7478 - accuracy: 0.5255 - val_loss: 3.1175 - val_accuracy: 0.7195\n",
            "Epoch 36/200\n",
            "49/49 [==============================] - 36s 744ms/step - loss: 3.7455 - accuracy: 0.5194 - val_loss: 3.1519 - val_accuracy: 0.7081\n",
            "Epoch 37/200\n",
            "49/49 [==============================] - 36s 741ms/step - loss: 3.7786 - accuracy: 0.5223 - val_loss: 3.1522 - val_accuracy: 0.7262\n",
            "Epoch 38/200\n",
            "49/49 [==============================] - 38s 772ms/step - loss: 3.7566 - accuracy: 0.5284 - val_loss: 3.0917 - val_accuracy: 0.7217\n",
            "Epoch 39/200\n",
            "49/49 [==============================] - 36s 740ms/step - loss: 3.7517 - accuracy: 0.5142 - val_loss: 3.1224 - val_accuracy: 0.7398\n",
            "Epoch 40/200\n",
            "49/49 [==============================] - 36s 740ms/step - loss: 3.7085 - accuracy: 0.5442 - val_loss: 3.1386 - val_accuracy: 0.6787\n",
            "Epoch 41/200\n",
            "49/49 [==============================] - 36s 742ms/step - loss: 3.8198 - accuracy: 0.5261 - val_loss: 3.2916 - val_accuracy: 0.7330\n",
            "Epoch 42/200\n",
            "49/49 [==============================] - 36s 740ms/step - loss: 3.8137 - accuracy: 0.5339 - val_loss: 3.1918 - val_accuracy: 0.6765\n",
            "Epoch 43/200\n",
            "49/49 [==============================] - 38s 773ms/step - loss: 3.7667 - accuracy: 0.5374 - val_loss: 3.1345 - val_accuracy: 0.6991\n",
            "Epoch 44/200\n",
            "49/49 [==============================] - 36s 743ms/step - loss: 3.8197 - accuracy: 0.5323 - val_loss: 3.1426 - val_accuracy: 0.7285\n",
            "Epoch 45/200\n",
            "49/49 [==============================] - 36s 743ms/step - loss: 3.7618 - accuracy: 0.5381 - val_loss: 3.3367 - val_accuracy: 0.6471\n",
            "Epoch 46/200\n",
            "49/49 [==============================] - 36s 742ms/step - loss: 3.9009 - accuracy: 0.5294 - val_loss: 3.2451 - val_accuracy: 0.6629\n",
            "Epoch 47/200\n",
            "49/49 [==============================] - 36s 735ms/step - loss: 3.7727 - accuracy: 0.5197 - val_loss: 3.1156 - val_accuracy: 0.7104\n",
            "Epoch 48/200\n",
            "49/49 [==============================] - 38s 774ms/step - loss: 3.8209 - accuracy: 0.5387 - val_loss: 3.2392 - val_accuracy: 0.6878\n",
            "Epoch 49/200\n",
            "49/49 [==============================] - 36s 737ms/step - loss: 3.8026 - accuracy: 0.5232 - val_loss: 3.2185 - val_accuracy: 0.6878\n",
            "Epoch 50/200\n",
            "49/49 [==============================] - 36s 741ms/step - loss: 3.8715 - accuracy: 0.5135 - val_loss: 3.1549 - val_accuracy: 0.7081\n",
            "Epoch 51/200\n",
            "49/49 [==============================] - 36s 737ms/step - loss: 3.8304 - accuracy: 0.5268 - val_loss: 3.2817 - val_accuracy: 0.6403\n",
            "Epoch 52/200\n",
            "49/49 [==============================] - 37s 747ms/step - loss: 3.7997 - accuracy: 0.5371 - val_loss: 3.1342 - val_accuracy: 0.7081\n"
          ]
        }
      ],
      "source": [
        "if USE_WHOLE_DATASET:\n",
        "  model_history = model.fit(\n",
        "      complete_set_cm,\n",
        "      epochs=model_EPOCHS,\n",
        "      class_weight = class_weights_dict\n",
        "  )\n",
        "else:\n",
        "  model_early_stopping = tf.keras.callbacks.EarlyStopping(monitor='val_accuracy', mode='max', patience=model_EARLY_STOPPING_PATIENCE, restore_best_weights=True)\n",
        "  model_history = model.fit(\n",
        "      training_set_cm,\n",
        "      validation_data = validation_set,\n",
        "      epochs = model_MAX_EPOCHS,\n",
        "      callbacks = [model_early_stopping],\n",
        "      class_weight = class_weights_dict\n",
        "  )"
      ]
    },
    {
      "cell_type": "markdown",
      "metadata": {
        "id": "VKqLpTU6PCjR"
      },
      "source": [
        "Plot the results:"
      ]
    },
    {
      "cell_type": "code",
      "execution_count": null,
      "metadata": {
        "colab": {
          "base_uri": "https://localhost:8080/",
          "height": 513
        },
        "id": "uxBjUjE4DLBy",
        "outputId": "8fd391e1-9c29-43d4-9678-41ba9757661c"
      },
      "outputs": [
        {
          "data": {
            "image/png": "[encoded data removed]",
            "text/plain": [
              "<Figure size 576x576 with 2 Axes>"
            ]
          },
          "metadata": {
            "needs_background": "light"
          },
          "output_type": "display_data"
        }
      ],
      "source": [
        "acc = model_history.history['accuracy']\n",
        "val_acc = model_history.history['val_accuracy']\n",
        "\n",
        "loss = model_history.history['loss']\n",
        "val_loss = model_history.history['val_loss']\n",
        "\n",
        "plt.figure(figsize=(8, 8))\n",
        "plt.subplot(2, 1, 1)\n",
        "plt.plot(acc, label='Training Accuracy')\n",
        "plt.plot(val_acc, label='Validation Accuracy')\n",
        "plt.ylim([min(plt.ylim()),1])\n",
        "plt.plot([model_early_stopping.best_epoch,model_early_stopping.best_epoch], plt.ylim(), label='Best Epoch')\n",
        "plt.legend(loc='lower right')\n",
        "plt.ylabel('Accuracy')\n",
        "plt.title('Training and Validation Accuracy')\n",
        "\n",
        "plt.subplot(2, 1, 2)\n",
        "plt.plot(loss, label='Training Loss')\n",
        "plt.plot(val_loss, label='Validation Loss')\n",
        "plt.ylim([0,max(plt.ylim())])\n",
        "plt.plot([model_early_stopping.best_epoch,model_early_stopping.best_epoch], plt.ylim(), label='Best Epoch')\n",
        "plt.legend(loc='upper right')\n",
        "plt.ylabel('Cross Entropy')\n",
        "plt.title('Training and Validation Loss')\n",
        "plt.xlabel('epoch')\n",
        "plt.show()"
      ]
    },
    {
      "cell_type": "markdown",
      "metadata": {
        "id": "wTOgWqtYHq-K"
      },
      "source": [
        "### General retraining"
      ]
    },
    {
      "cell_type": "code",
      "execution_count": null,
      "metadata": {
        "id": "RP9CIcXdHuZV"
      },
      "outputs": [],
      "source": [
        "if USE_WHOLE_DATASET:\n",
        "  ft_model_EPOCHS = 200\n",
        "else:\n",
        "  ft_model_MAX_EPOCHS = 200\n",
        "  ft_model_EARLY_STOPPING_PATIENCE = 23\n",
        "\n",
        "ft_model_LEARNING_RATE = 5.2e-5\n",
        "ft_model_OPTIMIZER = tf.keras.optimizers.Adam(ft_model_LEARNING_RATE)\n",
        "ft_model_LOSS = tf.keras.losses.CategoricalCrossentropy()\n",
        "ft_model_UNFREEZE = 670 # Note: if greater than the number of layers in the model, the whole model will be unfreezed"
      ]
    },
    {
      "cell_type": "markdown",
      "metadata": {
        "id": "lBM6hamqIbB6"
      },
      "source": [
        "#### Copy model"
      ]
    },
    {
      "cell_type": "code",
      "execution_count": null,
      "metadata": {
        "colab": {
          "base_uri": "https://localhost:8080/"
        },
        "id": "X4nTZGYlIafK",
        "outputId": "36e92de8-bdf1-4264-ec3f-e75317367b48"
      },
      "outputs": [
        {
          "name": "stdout",
          "output_type": "stream",
          "text": [
            "Model: \"ConvNextLarge_final_2nd\"\n",
            "_________________________________________________________________\n",
            " Layer (type)                Output Shape              Param #   \n",
            "=================================================================\n",
            " data_augmentation (Sequenti  (None, 96, 96, 3)        0         \n",
            " al)                                                             \n",
            "                                                                 \n",
            " supernet_preprocessing (Lam  (None, 96, 96, 3)        0         \n",
            " bda)                                                            \n",
            "                                                                 \n",
            " convnext_large (Functional)  (None, 3, 3, 1536)       196230336 \n",
            "                                                                 \n",
            " flatten (Flatten)           (None, 13824)             0         \n",
            "                                                                 \n",
            " dropout (Dropout)           (None, 13824)             0         \n",
            "                                                                 \n",
            " dense (Dense)               (None, 1024)              14156800  \n",
            "                                                                 \n",
            " dense_1 (Dense)             (None, 512)               524800    \n",
            "                                                                 \n",
            " dropout_1 (Dropout)         (None, 512)               0         \n",
            "                                                                 \n",
            " output_layer (Dense)        (None, 8)                 4104      \n",
            "                                                                 \n",
            "=================================================================\n",
            "Total params: 210,916,040\n",
            "Trainable params: 14,685,704\n",
            "Non-trainable params: 196,230,336\n",
            "_________________________________________________________________\n",
            "Number of layers in the supernet:  295\n"
          ]
        }
      ],
      "source": [
        "ft_model = model\n",
        "\n",
        "ft_model.compile(\n",
        "    optimizer=ft_model_OPTIMIZER,\n",
        "    loss=ft_model_LOSS,\n",
        "    metrics=['accuracy']\n",
        ")\n",
        "ft_model.set_weights(model.get_weights())\n",
        "ft_model.summary()\n",
        "print(\"Number of layers in the supernet: \", len(ft_model.get_layer(model_supernet.name).layers))"
      ]
    },
    {
      "cell_type": "markdown",
      "metadata": {
        "id": "EtX4gK7EI4e1"
      },
      "source": [
        "#### Unfreeze layers\n",
        "Here we unfreeze the whole model, with the exception of batch normalization layers."
      ]
    },
    {
      "cell_type": "code",
      "execution_count": null,
      "metadata": {
        "colab": {
          "base_uri": "https://localhost:8080/"
        },
        "id": "fhxU7AVNI7B3",
        "outputId": "94704d32-d45b-42f0-e7c7-0bafb335742e"
      },
      "outputs": [
        {
          "name": "stdout",
          "output_type": "stream",
          "text": [
            "294 layer_normalization True\n",
            "293 tf.__operators__.add_35 True\n",
            "292 convnext_large_stage_3_block_2_identity True\n",
            "291 convnext_large_stage_3_block_2_layer_scale True\n",
            "290 convnext_large_stage_3_block_2_pointwise_conv_2 True\n",
            "289 convnext_large_stage_3_block_2_gelu True\n",
            "288 convnext_large_stage_3_block_2_pointwise_conv_1 True\n",
            "287 convnext_large_stage_3_block_2_layernorm True\n",
            "286 convnext_large_stage_3_block_2_depthwise_conv True\n",
            "285 tf.__operators__.add_34 True\n",
            "284 convnext_large_stage_3_block_1_identity True\n",
            "283 convnext_large_stage_3_block_1_layer_scale True\n",
            "282 convnext_large_stage_3_block_1_pointwise_conv_2 True\n",
            "281 convnext_large_stage_3_block_1_gelu True\n",
            "280 convnext_large_stage_3_block_1_pointwise_conv_1 True\n",
            "279 convnext_large_stage_3_block_1_layernorm True\n",
            "278 convnext_large_stage_3_block_1_depthwise_conv True\n",
            "277 tf.__operators__.add_33 True\n",
            "276 convnext_large_stage_3_block_0_identity True\n",
            "275 convnext_large_stage_3_block_0_layer_scale True\n",
            "274 convnext_large_stage_3_block_0_pointwise_conv_2 True\n",
            "273 convnext_large_stage_3_block_0_gelu True\n",
            "272 convnext_large_stage_3_block_0_pointwise_conv_1 True\n",
            "271 convnext_large_stage_3_block_0_layernorm True\n",
            "270 convnext_large_stage_3_block_0_depthwise_conv True\n",
            "269 convnext_large_downsampling_block_2 True\n",
            "268 tf.__operators__.add_32 True\n",
            "267 convnext_large_stage_2_block_26_identity True\n",
            "266 convnext_large_stage_2_block_26_layer_scale True\n",
            "265 convnext_large_stage_2_block_26_pointwise_conv_2 True\n",
            "264 convnext_large_stage_2_block_26_gelu True\n",
            "263 convnext_large_stage_2_block_26_pointwise_conv_1 True\n",
            "262 convnext_large_stage_2_block_26_layernorm True\n",
            "261 convnext_large_stage_2_block_26_depthwise_conv True\n",
            "260 tf.__operators__.add_31 True\n",
            "259 convnext_large_stage_2_block_25_identity True\n",
            "258 convnext_large_stage_2_block_25_layer_scale True\n",
            "257 convnext_large_stage_2_block_25_pointwise_conv_2 True\n",
            "256 convnext_large_stage_2_block_25_gelu True\n",
            "255 convnext_large_stage_2_block_25_pointwise_conv_1 True\n",
            "254 convnext_large_stage_2_block_25_layernorm True\n",
            "253 convnext_large_stage_2_block_25_depthwise_conv True\n",
            "252 tf.__operators__.add_30 True\n",
            "251 convnext_large_stage_2_block_24_identity True\n",
            "250 convnext_large_stage_2_block_24_layer_scale True\n",
            "249 convnext_large_stage_2_block_24_pointwise_conv_2 True\n",
            "248 convnext_large_stage_2_block_24_gelu True\n",
            "247 convnext_large_stage_2_block_24_pointwise_conv_1 True\n",
            "246 convnext_large_stage_2_block_24_layernorm True\n",
            "245 convnext_large_stage_2_block_24_depthwise_conv True\n",
            "244 tf.__operators__.add_29 True\n",
            "243 convnext_large_stage_2_block_23_identity True\n",
            "242 convnext_large_stage_2_block_23_layer_scale True\n",
            "241 convnext_large_stage_2_block_23_pointwise_conv_2 True\n",
            "240 convnext_large_stage_2_block_23_gelu True\n",
            "239 convnext_large_stage_2_block_23_pointwise_conv_1 True\n",
            "238 convnext_large_stage_2_block_23_layernorm True\n",
            "237 convnext_large_stage_2_block_23_depthwise_conv True\n",
            "236 tf.__operators__.add_28 True\n",
            "235 convnext_large_stage_2_block_22_identity True\n",
            "234 convnext_large_stage_2_block_22_layer_scale True\n",
            "233 convnext_large_stage_2_block_22_pointwise_conv_2 True\n",
            "232 convnext_large_stage_2_block_22_gelu True\n",
            "231 convnext_large_stage_2_block_22_pointwise_conv_1 True\n",
            "230 convnext_large_stage_2_block_22_layernorm True\n",
            "229 convnext_large_stage_2_block_22_depthwise_conv True\n",
            "228 tf.__operators__.add_27 True\n",
            "227 convnext_large_stage_2_block_21_identity True\n",
            "226 convnext_large_stage_2_block_21_layer_scale True\n",
            "225 convnext_large_stage_2_block_21_pointwise_conv_2 True\n",
            "224 convnext_large_stage_2_block_21_gelu True\n",
            "223 convnext_large_stage_2_block_21_pointwise_conv_1 True\n",
            "222 convnext_large_stage_2_block_21_layernorm True\n",
            "221 convnext_large_stage_2_block_21_depthwise_conv True\n",
            "220 tf.__operators__.add_26 True\n",
            "219 convnext_large_stage_2_block_20_identity True\n",
            "218 convnext_large_stage_2_block_20_layer_scale True\n",
            "217 convnext_large_stage_2_block_20_pointwise_conv_2 True\n",
            "216 convnext_large_stage_2_block_20_gelu True\n",
            "215 convnext_large_stage_2_block_20_pointwise_conv_1 True\n",
            "214 convnext_large_stage_2_block_20_layernorm True\n",
            "213 convnext_large_stage_2_block_20_depthwise_conv True\n",
            "212 tf.__operators__.add_25 True\n",
            "211 convnext_large_stage_2_block_19_identity True\n",
            "210 convnext_large_stage_2_block_19_layer_scale True\n",
            "209 convnext_large_stage_2_block_19_pointwise_conv_2 True\n",
            "208 convnext_large_stage_2_block_19_gelu True\n",
            "207 convnext_large_stage_2_block_19_pointwise_conv_1 True\n",
            "206 convnext_large_stage_2_block_19_layernorm True\n",
            "205 convnext_large_stage_2_block_19_depthwise_conv True\n",
            "204 tf.__operators__.add_24 True\n",
            "203 convnext_large_stage_2_block_18_identity True\n",
            "202 convnext_large_stage_2_block_18_layer_scale True\n",
            "201 convnext_large_stage_2_block_18_pointwise_conv_2 True\n",
            "200 convnext_large_stage_2_block_18_gelu True\n",
            "199 convnext_large_stage_2_block_18_pointwise_conv_1 True\n",
            "198 convnext_large_stage_2_block_18_layernorm True\n",
            "197 convnext_large_stage_2_block_18_depthwise_conv True\n",
            "196 tf.__operators__.add_23 True\n",
            "195 convnext_large_stage_2_block_17_identity True\n",
            "194 convnext_large_stage_2_block_17_layer_scale True\n",
            "193 convnext_large_stage_2_block_17_pointwise_conv_2 True\n",
            "192 convnext_large_stage_2_block_17_gelu True\n",
            "191 convnext_large_stage_2_block_17_pointwise_conv_1 True\n",
            "190 convnext_large_stage_2_block_17_layernorm True\n",
            "189 convnext_large_stage_2_block_17_depthwise_conv True\n",
            "188 tf.__operators__.add_22 True\n",
            "187 convnext_large_stage_2_block_16_identity True\n",
            "186 convnext_large_stage_2_block_16_layer_scale True\n",
            "185 convnext_large_stage_2_block_16_pointwise_conv_2 True\n",
            "184 convnext_large_stage_2_block_16_gelu True\n",
            "183 convnext_large_stage_2_block_16_pointwise_conv_1 True\n",
            "182 convnext_large_stage_2_block_16_layernorm True\n",
            "181 convnext_large_stage_2_block_16_depthwise_conv True\n",
            "180 tf.__operators__.add_21 True\n",
            "179 convnext_large_stage_2_block_15_identity True\n",
            "178 convnext_large_stage_2_block_15_layer_scale True\n",
            "177 convnext_large_stage_2_block_15_pointwise_conv_2 True\n",
            "176 convnext_large_stage_2_block_15_gelu True\n",
            "175 convnext_large_stage_2_block_15_pointwise_conv_1 True\n",
            "174 convnext_large_stage_2_block_15_layernorm True\n",
            "173 convnext_large_stage_2_block_15_depthwise_conv True\n",
            "172 tf.__operators__.add_20 True\n",
            "171 convnext_large_stage_2_block_14_identity True\n",
            "170 convnext_large_stage_2_block_14_layer_scale True\n",
            "169 convnext_large_stage_2_block_14_pointwise_conv_2 True\n",
            "168 convnext_large_stage_2_block_14_gelu True\n",
            "167 convnext_large_stage_2_block_14_pointwise_conv_1 True\n",
            "166 convnext_large_stage_2_block_14_layernorm True\n",
            "165 convnext_large_stage_2_block_14_depthwise_conv True\n",
            "164 tf.__operators__.add_19 True\n",
            "163 convnext_large_stage_2_block_13_identity True\n",
            "162 convnext_large_stage_2_block_13_layer_scale True\n",
            "161 convnext_large_stage_2_block_13_pointwise_conv_2 True\n",
            "160 convnext_large_stage_2_block_13_gelu True\n",
            "159 convnext_large_stage_2_block_13_pointwise_conv_1 True\n",
            "158 convnext_large_stage_2_block_13_layernorm True\n",
            "157 convnext_large_stage_2_block_13_depthwise_conv True\n",
            "156 tf.__operators__.add_18 True\n",
            "155 convnext_large_stage_2_block_12_identity True\n",
            "154 convnext_large_stage_2_block_12_layer_scale True\n",
            "153 convnext_large_stage_2_block_12_pointwise_conv_2 True\n",
            "152 convnext_large_stage_2_block_12_gelu True\n",
            "151 convnext_large_stage_2_block_12_pointwise_conv_1 True\n",
            "150 convnext_large_stage_2_block_12_layernorm True\n",
            "149 convnext_large_stage_2_block_12_depthwise_conv True\n",
            "148 tf.__operators__.add_17 True\n",
            "147 convnext_large_stage_2_block_11_identity True\n",
            "146 convnext_large_stage_2_block_11_layer_scale True\n",
            "145 convnext_large_stage_2_block_11_pointwise_conv_2 True\n",
            "144 convnext_large_stage_2_block_11_gelu True\n",
            "143 convnext_large_stage_2_block_11_pointwise_conv_1 True\n",
            "142 convnext_large_stage_2_block_11_layernorm True\n",
            "141 convnext_large_stage_2_block_11_depthwise_conv True\n",
            "140 tf.__operators__.add_16 True\n",
            "139 convnext_large_stage_2_block_10_identity True\n",
            "138 convnext_large_stage_2_block_10_layer_scale True\n",
            "137 convnext_large_stage_2_block_10_pointwise_conv_2 True\n",
            "136 convnext_large_stage_2_block_10_gelu True\n",
            "135 convnext_large_stage_2_block_10_pointwise_conv_1 True\n",
            "134 convnext_large_stage_2_block_10_layernorm True\n",
            "133 convnext_large_stage_2_block_10_depthwise_conv True\n",
            "132 tf.__operators__.add_15 True\n",
            "131 convnext_large_stage_2_block_9_identity True\n",
            "130 convnext_large_stage_2_block_9_layer_scale True\n",
            "129 convnext_large_stage_2_block_9_pointwise_conv_2 True\n",
            "128 convnext_large_stage_2_block_9_gelu True\n",
            "127 convnext_large_stage_2_block_9_pointwise_conv_1 True\n",
            "126 convnext_large_stage_2_block_9_layernorm True\n",
            "125 convnext_large_stage_2_block_9_depthwise_conv True\n",
            "124 tf.__operators__.add_14 True\n",
            "123 convnext_large_stage_2_block_8_identity True\n",
            "122 convnext_large_stage_2_block_8_layer_scale True\n",
            "121 convnext_large_stage_2_block_8_pointwise_conv_2 True\n",
            "120 convnext_large_stage_2_block_8_gelu True\n",
            "119 convnext_large_stage_2_block_8_pointwise_conv_1 True\n",
            "118 convnext_large_stage_2_block_8_layernorm True\n",
            "117 convnext_large_stage_2_block_8_depthwise_conv True\n",
            "116 tf.__operators__.add_13 True\n",
            "115 convnext_large_stage_2_block_7_identity True\n",
            "114 convnext_large_stage_2_block_7_layer_scale True\n",
            "113 convnext_large_stage_2_block_7_pointwise_conv_2 True\n",
            "112 convnext_large_stage_2_block_7_gelu True\n",
            "111 convnext_large_stage_2_block_7_pointwise_conv_1 True\n",
            "110 convnext_large_stage_2_block_7_layernorm True\n",
            "109 convnext_large_stage_2_block_7_depthwise_conv True\n",
            "108 tf.__operators__.add_12 True\n",
            "107 convnext_large_stage_2_block_6_identity True\n",
            "106 convnext_large_stage_2_block_6_layer_scale True\n",
            "105 convnext_large_stage_2_block_6_pointwise_conv_2 True\n",
            "104 convnext_large_stage_2_block_6_gelu True\n",
            "103 convnext_large_stage_2_block_6_pointwise_conv_1 True\n",
            "102 convnext_large_stage_2_block_6_layernorm True\n",
            "101 convnext_large_stage_2_block_6_depthwise_conv True\n",
            "100 tf.__operators__.add_11 True\n",
            "99 convnext_large_stage_2_block_5_identity True\n",
            "98 convnext_large_stage_2_block_5_layer_scale True\n",
            "97 convnext_large_stage_2_block_5_pointwise_conv_2 True\n",
            "96 convnext_large_stage_2_block_5_gelu True\n",
            "95 convnext_large_stage_2_block_5_pointwise_conv_1 True\n",
            "94 convnext_large_stage_2_block_5_layernorm True\n",
            "93 convnext_large_stage_2_block_5_depthwise_conv True\n",
            "92 tf.__operators__.add_10 True\n",
            "91 convnext_large_stage_2_block_4_identity True\n",
            "90 convnext_large_stage_2_block_4_layer_scale True\n",
            "89 convnext_large_stage_2_block_4_pointwise_conv_2 True\n",
            "88 convnext_large_stage_2_block_4_gelu True\n",
            "87 convnext_large_stage_2_block_4_pointwise_conv_1 True\n",
            "86 convnext_large_stage_2_block_4_layernorm True\n",
            "85 convnext_large_stage_2_block_4_depthwise_conv True\n",
            "84 tf.__operators__.add_9 True\n",
            "83 convnext_large_stage_2_block_3_identity True\n",
            "82 convnext_large_stage_2_block_3_layer_scale True\n",
            "81 convnext_large_stage_2_block_3_pointwise_conv_2 True\n",
            "80 convnext_large_stage_2_block_3_gelu True\n",
            "79 convnext_large_stage_2_block_3_pointwise_conv_1 True\n",
            "78 convnext_large_stage_2_block_3_layernorm True\n",
            "77 convnext_large_stage_2_block_3_depthwise_conv True\n",
            "76 tf.__operators__.add_8 True\n",
            "75 convnext_large_stage_2_block_2_identity True\n",
            "74 convnext_large_stage_2_block_2_layer_scale True\n",
            "73 convnext_large_stage_2_block_2_pointwise_conv_2 True\n",
            "72 convnext_large_stage_2_block_2_gelu True\n",
            "71 convnext_large_stage_2_block_2_pointwise_conv_1 True\n",
            "70 convnext_large_stage_2_block_2_layernorm True\n",
            "69 convnext_large_stage_2_block_2_depthwise_conv True\n",
            "68 tf.__operators__.add_7 True\n",
            "67 convnext_large_stage_2_block_1_identity True\n",
            "66 convnext_large_stage_2_block_1_layer_scale True\n",
            "65 convnext_large_stage_2_block_1_pointwise_conv_2 True\n",
            "64 convnext_large_stage_2_block_1_gelu True\n",
            "63 convnext_large_stage_2_block_1_pointwise_conv_1 True\n",
            "62 convnext_large_stage_2_block_1_layernorm True\n",
            "61 convnext_large_stage_2_block_1_depthwise_conv True\n",
            "60 tf.__operators__.add_6 True\n",
            "59 convnext_large_stage_2_block_0_identity True\n",
            "58 convnext_large_stage_2_block_0_layer_scale True\n",
            "57 convnext_large_stage_2_block_0_pointwise_conv_2 True\n",
            "56 convnext_large_stage_2_block_0_gelu True\n",
            "55 convnext_large_stage_2_block_0_pointwise_conv_1 True\n",
            "54 convnext_large_stage_2_block_0_layernorm True\n",
            "53 convnext_large_stage_2_block_0_depthwise_conv True\n",
            "52 convnext_large_downsampling_block_1 True\n",
            "51 tf.__operators__.add_5 True\n",
            "50 convnext_large_stage_1_block_2_identity True\n",
            "49 convnext_large_stage_1_block_2_layer_scale True\n",
            "48 convnext_large_stage_1_block_2_pointwise_conv_2 True\n",
            "47 convnext_large_stage_1_block_2_gelu True\n",
            "46 convnext_large_stage_1_block_2_pointwise_conv_1 True\n",
            "45 convnext_large_stage_1_block_2_layernorm True\n",
            "44 convnext_large_stage_1_block_2_depthwise_conv True\n",
            "43 tf.__operators__.add_4 True\n",
            "42 convnext_large_stage_1_block_1_identity True\n",
            "41 convnext_large_stage_1_block_1_layer_scale True\n",
            "40 convnext_large_stage_1_block_1_pointwise_conv_2 True\n",
            "39 convnext_large_stage_1_block_1_gelu True\n",
            "38 convnext_large_stage_1_block_1_pointwise_conv_1 True\n",
            "37 convnext_large_stage_1_block_1_layernorm True\n",
            "36 convnext_large_stage_1_block_1_depthwise_conv True\n",
            "35 tf.__operators__.add_3 True\n",
            "34 convnext_large_stage_1_block_0_identity True\n",
            "33 convnext_large_stage_1_block_0_layer_scale True\n",
            "32 convnext_large_stage_1_block_0_pointwise_conv_2 True\n",
            "31 convnext_large_stage_1_block_0_gelu True\n",
            "30 convnext_large_stage_1_block_0_pointwise_conv_1 True\n",
            "29 convnext_large_stage_1_block_0_layernorm True\n",
            "28 convnext_large_stage_1_block_0_depthwise_conv True\n",
            "27 convnext_large_downsampling_block_0 True\n",
            "26 tf.__operators__.add_2 True\n",
            "25 convnext_large_stage_0_block_2_identity True\n",
            "24 convnext_large_stage_0_block_2_layer_scale True\n",
            "23 convnext_large_stage_0_block_2_pointwise_conv_2 True\n",
            "22 convnext_large_stage_0_block_2_gelu True\n",
            "21 convnext_large_stage_0_block_2_pointwise_conv_1 True\n",
            "20 convnext_large_stage_0_block_2_layernorm True\n",
            "19 convnext_large_stage_0_block_2_depthwise_conv True\n",
            "18 tf.__operators__.add_1 True\n",
            "17 convnext_large_stage_0_block_1_identity True\n",
            "16 convnext_large_stage_0_block_1_layer_scale True\n",
            "15 convnext_large_stage_0_block_1_pointwise_conv_2 True\n",
            "14 convnext_large_stage_0_block_1_gelu True\n",
            "13 convnext_large_stage_0_block_1_pointwise_conv_1 True\n",
            "12 convnext_large_stage_0_block_1_layernorm True\n",
            "11 convnext_large_stage_0_block_1_depthwise_conv True\n",
            "10 tf.__operators__.add True\n",
            "9 convnext_large_stage_0_block_0_identity True\n",
            "8 convnext_large_stage_0_block_0_layer_scale True\n",
            "7 convnext_large_stage_0_block_0_pointwise_conv_2 True\n",
            "6 convnext_large_stage_0_block_0_gelu True\n",
            "5 convnext_large_stage_0_block_0_pointwise_conv_1 True\n",
            "4 convnext_large_stage_0_block_0_layernorm True\n",
            "3 convnext_large_stage_0_block_0_depthwise_conv True\n",
            "2 convnext_large_stem True\n",
            "1 convnext_large_prestem_normalization True\n",
            "0 input_1 True\n",
            "Model: \"ConvNextLarge_final_2nd\"\n",
            "_________________________________________________________________\n",
            " Layer (type)                Output Shape              Param #   \n",
            "=================================================================\n",
            " data_augmentation (Sequenti  (None, 96, 96, 3)        0         \n",
            " al)                                                             \n",
            "                                                                 \n",
            " supernet_preprocessing (Lam  (None, 96, 96, 3)        0         \n",
            " bda)                                                            \n",
            "                                                                 \n",
            " convnext_large (Functional)  (None, 3, 3, 1536)       196230336 \n",
            "                                                                 \n",
            " flatten (Flatten)           (None, 13824)             0         \n",
            "                                                                 \n",
            " dropout (Dropout)           (None, 13824)             0         \n",
            "                                                                 \n",
            " dense (Dense)               (None, 1024)              14156800  \n",
            "                                                                 \n",
            " dense_1 (Dense)             (None, 512)               524800    \n",
            "                                                                 \n",
            " dropout_1 (Dropout)         (None, 512)               0         \n",
            "                                                                 \n",
            " output_layer (Dense)        (None, 8)                 4104      \n",
            "                                                                 \n",
            "=================================================================\n",
            "Total params: 210,916,040\n",
            "Trainable params: 210,916,040\n",
            "Non-trainable params: 0\n",
            "_________________________________________________________________\n"
          ]
        }
      ],
      "source": [
        "ft_model.get_layer(model_supernet.name).trainable = True\n",
        "\n",
        "unfreezed = 0\n",
        "for i in reversed(range(len(ft_model.get_layer(model_supernet.name).layers))):\n",
        "  layer = ft_model.get_layer(model_supernet.name).layers[i]\n",
        "  if unfreezed < ft_model_UNFREEZE and not isinstance(layer, tf.keras.layers.BatchNormalization):\n",
        "      unfreezed += 1\n",
        "      layer.trainable = True\n",
        "  else:\n",
        "    layer.trainable = False\n",
        "  \n",
        "  print(i, layer.name, layer.trainable)\n",
        "\n",
        "\n",
        "ft_model.summary()"
      ]
    },
    {
      "cell_type": "markdown",
      "metadata": {
        "id": "WC1vwL2dKlK3"
      },
      "source": [
        "#### Training"
      ]
    },
    {
      "cell_type": "code",
      "execution_count": null,
      "metadata": {
        "colab": {
          "base_uri": "https://localhost:8080/"
        },
        "id": "Xqbth54TKk8Z",
        "outputId": "af0bfb31-1692-4184-f9b9-acea78b7e811"
      },
      "outputs": [
        {
          "name": "stdout",
          "output_type": "stream",
          "text": [
            "Model: \"ConvNextLarge_final_2nd\"\n",
            "_________________________________________________________________\n",
            " Layer (type)                Output Shape              Param #   \n",
            "=================================================================\n",
            " data_augmentation (Sequenti  (None, 96, 96, 3)        0         \n",
            " al)                                                             \n",
            "                                                                 \n",
            " supernet_preprocessing (Lam  (None, 96, 96, 3)        0         \n",
            " bda)                                                            \n",
            "                                                                 \n",
            " convnext_large (Functional)  (None, 3, 3, 1536)       196230336 \n",
            "                                                                 \n",
            " flatten (Flatten)           (None, 13824)             0         \n",
            "                                                                 \n",
            " dropout (Dropout)           (None, 13824)             0         \n",
            "                                                                 \n",
            " dense (Dense)               (None, 1024)              14156800  \n",
            "                                                                 \n",
            " dense_1 (Dense)             (None, 512)               524800    \n",
            "                                                                 \n",
            " dropout_1 (Dropout)         (None, 512)               0         \n",
            "                                                                 \n",
            " output_layer (Dense)        (None, 8)                 4104      \n",
            "                                                                 \n",
            "=================================================================\n",
            "Total params: 210,916,040\n",
            "Trainable params: 210,916,040\n",
            "Non-trainable params: 0\n",
            "_________________________________________________________________\n"
          ]
        }
      ],
      "source": [
        "ft_model.compile(\n",
        "    optimizer=ft_model_OPTIMIZER,\n",
        "    loss=ft_model_LOSS,\n",
        "    metrics=['accuracy']\n",
        ")\n",
        "ft_model.summary()"
      ]
    },
    {
      "cell_type": "code",
      "execution_count": null,
      "metadata": {
        "colab": {
          "base_uri": "https://localhost:8080/"
        },
        "id": "7iRlAf83Kw-X",
        "outputId": "04bb5b8a-7e06-4738-cd7b-6ca31081cf88"
      },
      "outputs": [
        {
          "name": "stdout",
          "output_type": "stream",
          "text": [
            "Epoch 33/232\n"
          ]
        },
        {
          "name": "stderr",
          "output_type": "stream",
          "text": [
            "WARNING:tensorflow:Using a while_loop for converting RngReadAndSkip cause there is no registered converter for this op.\n",
            "WARNING:tensorflow:Using a while_loop for converting Bitcast cause there is no registered converter for this op.\n",
            "WARNING:tensorflow:Using a while_loop for converting Bitcast cause there is no registered converter for this op.\n",
            "WARNING:tensorflow:Using a while_loop for converting StatelessRandomUniformV2 cause there is no registered converter for this op.\n",
            "WARNING:tensorflow:Using a while_loop for converting ImageProjectiveTransformV3 cause there is no registered converter for this op.\n",
            "WARNING:tensorflow:Using a while_loop for converting RngReadAndSkip cause there is no registered converter for this op.\n",
            "WARNING:tensorflow:Using a while_loop for converting Bitcast cause there is no registered converter for this op.\n",
            "WARNING:tensorflow:Using a while_loop for converting Bitcast cause there is no registered converter for this op.\n",
            "WARNING:tensorflow:Using a while_loop for converting StatelessRandomUniformV2 cause there is no registered converter for this op.\n",
            "WARNING:tensorflow:Using a while_loop for converting ImageProjectiveTransformV3 cause there is no registered converter for this op.\n",
            "WARNING:tensorflow:Using a while_loop for converting RngReadAndSkip cause there is no registered converter for this op.\n",
            "WARNING:tensorflow:Using a while_loop for converting Bitcast cause there is no registered converter for this op.\n",
            "WARNING:tensorflow:Using a while_loop for converting Bitcast cause there is no registered converter for this op.\n",
            "WARNING:tensorflow:Using a while_loop for converting StatelessRandomUniformV2 cause there is no registered converter for this op.\n",
            "WARNING:tensorflow:Using a while_loop for converting ImageProjectiveTransformV3 cause there is no registered converter for this op.\n",
            "WARNING:tensorflow:Using a while_loop for converting RngReadAndSkip cause there is no registered converter for this op.\n",
            "WARNING:tensorflow:Using a while_loop for converting Bitcast cause there is no registered converter for this op.\n",
            "WARNING:tensorflow:Using a while_loop for converting Bitcast cause there is no registered converter for this op.\n",
            "WARNING:tensorflow:Using a while_loop for converting StatelessRandomUniformV2 cause there is no registered converter for this op.\n",
            "WARNING:tensorflow:Using a while_loop for converting ImageProjectiveTransformV3 cause there is no registered converter for this op.\n"
          ]
        },
        {
          "name": "stdout",
          "output_type": "stream",
          "text": [
            "49/49 [==============================] - 116s 2s/step - loss: 2.3330 - accuracy: 0.5861 - val_loss: 1.4425 - val_accuracy: 0.7851\n",
            "Epoch 34/232\n",
            "49/49 [==============================] - 79s 2s/step - loss: 2.0132 - accuracy: 0.6497 - val_loss: 1.3125 - val_accuracy: 0.8077\n",
            "Epoch 35/232\n",
            "49/49 [==============================] - 77s 2s/step - loss: 1.9365 - accuracy: 0.6710 - val_loss: 1.3141 - val_accuracy: 0.7783\n",
            "Epoch 36/232\n",
            "49/49 [==============================] - 78s 2s/step - loss: 1.9044 - accuracy: 0.6900 - val_loss: 1.2273 - val_accuracy: 0.8281\n",
            "Epoch 37/232\n",
            "49/49 [==============================] - 79s 2s/step - loss: 1.8264 - accuracy: 0.7074 - val_loss: 1.1402 - val_accuracy: 0.8665\n",
            "Epoch 38/232\n",
            "49/49 [==============================] - 78s 2s/step - loss: 1.7940 - accuracy: 0.7123 - val_loss: 1.0707 - val_accuracy: 0.8756\n",
            "Epoch 39/232\n",
            "49/49 [==============================] - 79s 2s/step - loss: 1.7334 - accuracy: 0.7245 - val_loss: 1.0204 - val_accuracy: 0.8824\n",
            "Epoch 40/232\n",
            "49/49 [==============================] - 77s 2s/step - loss: 1.7264 - accuracy: 0.7310 - val_loss: 1.0319 - val_accuracy: 0.8710\n",
            "Epoch 41/232\n",
            "49/49 [==============================] - 78s 2s/step - loss: 1.6582 - accuracy: 0.7374 - val_loss: 0.9819 - val_accuracy: 0.8733\n",
            "Epoch 42/232\n",
            "49/49 [==============================] - 78s 2s/step - loss: 1.6348 - accuracy: 0.7326 - val_loss: 0.9624 - val_accuracy: 0.8846\n",
            "Epoch 43/232\n",
            "49/49 [==============================] - 77s 2s/step - loss: 1.5992 - accuracy: 0.7381 - val_loss: 0.9418 - val_accuracy: 0.8801\n",
            "Epoch 44/232\n",
            "49/49 [==============================] - 78s 2s/step - loss: 1.5622 - accuracy: 0.7552 - val_loss: 0.9005 - val_accuracy: 0.8914\n",
            "Epoch 45/232\n",
            "49/49 [==============================] - 78s 2s/step - loss: 1.5424 - accuracy: 0.7665 - val_loss: 0.8549 - val_accuracy: 0.9072\n",
            "Epoch 46/232\n",
            "49/49 [==============================] - 78s 2s/step - loss: 1.4975 - accuracy: 0.7703 - val_loss: 0.8221 - val_accuracy: 0.9050\n",
            "Epoch 47/232\n",
            "49/49 [==============================] - 78s 2s/step - loss: 1.4595 - accuracy: 0.7823 - val_loss: 0.8290 - val_accuracy: 0.9095\n",
            "Epoch 48/232\n",
            "49/49 [==============================] - 77s 2s/step - loss: 1.4452 - accuracy: 0.7832 - val_loss: 0.8272 - val_accuracy: 0.9050\n",
            "Epoch 49/232\n",
            "49/49 [==============================] - 78s 2s/step - loss: 1.4492 - accuracy: 0.7935 - val_loss: 0.7655 - val_accuracy: 0.9163\n",
            "Epoch 50/232\n",
            "49/49 [==============================] - 77s 2s/step - loss: 1.4273 - accuracy: 0.7865 - val_loss: 0.7586 - val_accuracy: 0.9095\n",
            "Epoch 51/232\n",
            "49/49 [==============================] - 79s 2s/step - loss: 1.3955 - accuracy: 0.7906 - val_loss: 0.7397 - val_accuracy: 0.9186\n",
            "Epoch 52/232\n",
            "49/49 [==============================] - 77s 2s/step - loss: 1.3934 - accuracy: 0.7945 - val_loss: 0.7306 - val_accuracy: 0.9163\n",
            "Epoch 53/232\n",
            "49/49 [==============================] - 77s 2s/step - loss: 1.3450 - accuracy: 0.8003 - val_loss: 0.7197 - val_accuracy: 0.9140\n",
            "Epoch 54/232\n",
            "49/49 [==============================] - 78s 2s/step - loss: 1.3202 - accuracy: 0.8103 - val_loss: 0.6971 - val_accuracy: 0.9208\n",
            "Epoch 55/232\n",
            "49/49 [==============================] - 77s 2s/step - loss: 1.3217 - accuracy: 0.8042 - val_loss: 0.6641 - val_accuracy: 0.9276\n",
            "Epoch 56/232\n",
            "49/49 [==============================] - 78s 2s/step - loss: 1.3131 - accuracy: 0.8123 - val_loss: 0.7078 - val_accuracy: 0.9095\n",
            "Epoch 57/232\n",
            "49/49 [==============================] - 77s 2s/step - loss: 1.2900 - accuracy: 0.8177 - val_loss: 0.6746 - val_accuracy: 0.9050\n",
            "Epoch 58/232\n",
            "49/49 [==============================] - 77s 2s/step - loss: 1.2858 - accuracy: 0.8090 - val_loss: 0.7459 - val_accuracy: 0.8846\n",
            "Epoch 59/232\n",
            "49/49 [==============================] - 75s 2s/step - loss: 1.2665 - accuracy: 0.8142 - val_loss: 0.6592 - val_accuracy: 0.9253\n",
            "Epoch 60/232\n",
            "49/49 [==============================] - 75s 2s/step - loss: 1.2554 - accuracy: 0.8129 - val_loss: 0.6233 - val_accuracy: 0.9276\n",
            "Epoch 61/232\n",
            "49/49 [==============================] - 76s 2s/step - loss: 1.2443 - accuracy: 0.8184 - val_loss: 0.6225 - val_accuracy: 0.9163\n",
            "Epoch 62/232\n",
            "49/49 [==============================] - 76s 2s/step - loss: 1.2452 - accuracy: 0.8148 - val_loss: 0.6177 - val_accuracy: 0.9344\n",
            "Epoch 63/232\n",
            "49/49 [==============================] - 75s 2s/step - loss: 1.2175 - accuracy: 0.8226 - val_loss: 0.6289 - val_accuracy: 0.9208\n",
            "Epoch 64/232\n",
            "49/49 [==============================] - 75s 2s/step - loss: 1.2101 - accuracy: 0.8168 - val_loss: 0.5897 - val_accuracy: 0.9367\n",
            "Epoch 65/232\n",
            "49/49 [==============================] - 76s 2s/step - loss: 1.1791 - accuracy: 0.8232 - val_loss: 0.6191 - val_accuracy: 0.9276\n",
            "Epoch 66/232\n",
            "49/49 [==============================] - 77s 2s/step - loss: 1.2024 - accuracy: 0.8184 - val_loss: 0.6030 - val_accuracy: 0.9253\n",
            "Epoch 67/232\n",
            "49/49 [==============================] - 77s 2s/step - loss: 1.1910 - accuracy: 0.8235 - val_loss: 0.5916 - val_accuracy: 0.9253\n",
            "Epoch 68/232\n",
            "49/49 [==============================] - 78s 2s/step - loss: 1.1713 - accuracy: 0.8258 - val_loss: 0.5640 - val_accuracy: 0.9344\n",
            "Epoch 69/232\n",
            "49/49 [==============================] - 77s 2s/step - loss: 1.1579 - accuracy: 0.8194 - val_loss: 0.5542 - val_accuracy: 0.9434\n",
            "Epoch 70/232\n",
            "49/49 [==============================] - 78s 2s/step - loss: 1.1467 - accuracy: 0.8271 - val_loss: 0.5390 - val_accuracy: 0.9434\n",
            "Epoch 71/232\n",
            "49/49 [==============================] - 77s 2s/step - loss: 1.1202 - accuracy: 0.8361 - val_loss: 0.5215 - val_accuracy: 0.9434\n",
            "Epoch 72/232\n",
            "49/49 [==============================] - 78s 2s/step - loss: 1.1068 - accuracy: 0.8413 - val_loss: 0.5460 - val_accuracy: 0.9367\n",
            "Epoch 73/232\n",
            "49/49 [==============================] - 77s 2s/step - loss: 1.1279 - accuracy: 0.8465 - val_loss: 0.5245 - val_accuracy: 0.9344\n",
            "Epoch 74/232\n",
            "49/49 [==============================] - 78s 2s/step - loss: 1.1478 - accuracy: 0.8255 - val_loss: 0.5680 - val_accuracy: 0.9118\n",
            "Epoch 75/232\n",
            "49/49 [==============================] - 77s 2s/step - loss: 1.1130 - accuracy: 0.8284 - val_loss: 0.5747 - val_accuracy: 0.9208\n",
            "Epoch 76/232\n",
            "49/49 [==============================] - 77s 2s/step - loss: 1.1196 - accuracy: 0.8335 - val_loss: 0.5461 - val_accuracy: 0.9276\n",
            "Epoch 77/232\n",
            "49/49 [==============================] - 78s 2s/step - loss: 1.0848 - accuracy: 0.8429 - val_loss: 0.5190 - val_accuracy: 0.9344\n",
            "Epoch 78/232\n",
            "49/49 [==============================] - 77s 2s/step - loss: 1.0994 - accuracy: 0.8435 - val_loss: 0.5270 - val_accuracy: 0.9276\n",
            "Epoch 79/232\n",
            "49/49 [==============================] - 78s 2s/step - loss: 1.1035 - accuracy: 0.8406 - val_loss: 0.5201 - val_accuracy: 0.9276\n",
            "Epoch 80/232\n",
            "49/49 [==============================] - 77s 2s/step - loss: 1.0893 - accuracy: 0.8352 - val_loss: 0.5225 - val_accuracy: 0.9299\n",
            "Epoch 81/232\n",
            "49/49 [==============================] - 78s 2s/step - loss: 1.0866 - accuracy: 0.8387 - val_loss: 0.4952 - val_accuracy: 0.9412\n",
            "Epoch 82/232\n",
            "49/49 [==============================] - 77s 2s/step - loss: 1.0788 - accuracy: 0.8555 - val_loss: 0.5225 - val_accuracy: 0.9389\n",
            "Epoch 83/232\n",
            "49/49 [==============================] - 78s 2s/step - loss: 1.0456 - accuracy: 0.8439 - val_loss: 0.4872 - val_accuracy: 0.9457\n",
            "Epoch 84/232\n",
            "49/49 [==============================] - 78s 2s/step - loss: 1.0404 - accuracy: 0.8529 - val_loss: 0.5026 - val_accuracy: 0.9389\n",
            "Epoch 85/232\n",
            "49/49 [==============================] - 77s 2s/step - loss: 1.0973 - accuracy: 0.8458 - val_loss: 0.5075 - val_accuracy: 0.9253\n",
            "Epoch 86/232\n",
            "49/49 [==============================] - 78s 2s/step - loss: 1.0513 - accuracy: 0.8571 - val_loss: 0.4932 - val_accuracy: 0.9299\n",
            "Epoch 87/232\n",
            "49/49 [==============================] - 77s 2s/step - loss: 1.0645 - accuracy: 0.8416 - val_loss: 0.4808 - val_accuracy: 0.9389\n",
            "Epoch 88/232\n",
            "49/49 [==============================] - 78s 2s/step - loss: 1.0345 - accuracy: 0.8532 - val_loss: 0.4918 - val_accuracy: 0.9163\n",
            "Epoch 89/232\n",
            "49/49 [==============================] - 77s 2s/step - loss: 1.0445 - accuracy: 0.8481 - val_loss: 0.4646 - val_accuracy: 0.9434\n",
            "Epoch 90/232\n",
            "49/49 [==============================] - 77s 2s/step - loss: 1.0337 - accuracy: 0.8516 - val_loss: 0.4715 - val_accuracy: 0.9389\n",
            "Epoch 91/232\n",
            "49/49 [==============================] - 77s 2s/step - loss: 1.0312 - accuracy: 0.8461 - val_loss: 0.4730 - val_accuracy: 0.9344\n",
            "Epoch 92/232\n",
            "49/49 [==============================] - 76s 2s/step - loss: 1.0134 - accuracy: 0.8361 - val_loss: 0.4715 - val_accuracy: 0.9321\n",
            "Epoch 93/232\n",
            "49/49 [==============================] - 78s 2s/step - loss: 1.0237 - accuracy: 0.8426 - val_loss: 0.4546 - val_accuracy: 0.9367\n",
            "Epoch 94/232\n",
            "49/49 [==============================] - 77s 2s/step - loss: 1.0018 - accuracy: 0.8597 - val_loss: 0.4660 - val_accuracy: 0.9253\n",
            "Epoch 95/232\n",
            "49/49 [==============================] - 78s 2s/step - loss: 1.0096 - accuracy: 0.8532 - val_loss: 0.4516 - val_accuracy: 0.9480\n",
            "Epoch 96/232\n",
            "49/49 [==============================] - 77s 2s/step - loss: 1.0105 - accuracy: 0.8629 - val_loss: 0.4408 - val_accuracy: 0.9389\n",
            "Epoch 97/232\n",
            "49/49 [==============================] - 78s 2s/step - loss: 0.9954 - accuracy: 0.8590 - val_loss: 0.4508 - val_accuracy: 0.9389\n",
            "Epoch 98/232\n",
            "49/49 [==============================] - 77s 2s/step - loss: 1.0054 - accuracy: 0.8603 - val_loss: 0.4616 - val_accuracy: 0.9299\n",
            "Epoch 99/232\n",
            "49/49 [==============================] - 78s 2s/step - loss: 1.0195 - accuracy: 0.8529 - val_loss: 0.4690 - val_accuracy: 0.9299\n",
            "Epoch 100/232\n",
            "49/49 [==============================] - 77s 2s/step - loss: 1.0058 - accuracy: 0.8484 - val_loss: 0.4646 - val_accuracy: 0.9231\n",
            "Epoch 101/232\n",
            "49/49 [==============================] - 77s 2s/step - loss: 0.9879 - accuracy: 0.8632 - val_loss: 0.4378 - val_accuracy: 0.9412\n",
            "Epoch 102/232\n",
            "49/49 [==============================] - 76s 2s/step - loss: 0.9800 - accuracy: 0.8481 - val_loss: 0.4622 - val_accuracy: 0.9253\n",
            "Epoch 103/232\n",
            "49/49 [==============================] - 75s 2s/step - loss: 0.9926 - accuracy: 0.8600 - val_loss: 0.4512 - val_accuracy: 0.9367\n",
            "Epoch 104/232\n",
            "49/49 [==============================] - 76s 2s/step - loss: 0.9867 - accuracy: 0.8594 - val_loss: 0.4456 - val_accuracy: 0.9389\n",
            "Epoch 105/232\n",
            "49/49 [==============================] - 77s 2s/step - loss: 0.9788 - accuracy: 0.8539 - val_loss: 0.4389 - val_accuracy: 0.9412\n",
            "Epoch 106/232\n",
            "49/49 [==============================] - 76s 2s/step - loss: 0.9672 - accuracy: 0.8626 - val_loss: 0.4105 - val_accuracy: 0.9457\n",
            "Epoch 107/232\n",
            "49/49 [==============================] - 77s 2s/step - loss: 0.9765 - accuracy: 0.8500 - val_loss: 0.4507 - val_accuracy: 0.9253\n",
            "Epoch 108/232\n",
            "49/49 [==============================] - 78s 2s/step - loss: 0.9772 - accuracy: 0.8632 - val_loss: 0.4266 - val_accuracy: 0.9480\n",
            "Epoch 109/232\n",
            "49/49 [==============================] - 77s 2s/step - loss: 0.9784 - accuracy: 0.8610 - val_loss: 0.3921 - val_accuracy: 0.9570\n",
            "Epoch 110/232\n",
            "49/49 [==============================] - 78s 2s/step - loss: 0.9788 - accuracy: 0.8629 - val_loss: 0.4276 - val_accuracy: 0.9434\n",
            "Epoch 111/232\n",
            "49/49 [==============================] - 77s 2s/step - loss: 0.9525 - accuracy: 0.8719 - val_loss: 0.4319 - val_accuracy: 0.9367\n",
            "Epoch 112/232\n",
            "49/49 [==============================] - 77s 2s/step - loss: 0.9680 - accuracy: 0.8577 - val_loss: 0.4323 - val_accuracy: 0.9344\n",
            "Epoch 113/232\n",
            "49/49 [==============================] - 77s 2s/step - loss: 0.9580 - accuracy: 0.8594 - val_loss: 0.4277 - val_accuracy: 0.9344\n",
            "Epoch 114/232\n",
            "49/49 [==============================] - 77s 2s/step - loss: 0.9470 - accuracy: 0.8687 - val_loss: 0.4142 - val_accuracy: 0.9525\n",
            "Epoch 115/232\n",
            "49/49 [==============================] - 78s 2s/step - loss: 0.9824 - accuracy: 0.8581 - val_loss: 0.4091 - val_accuracy: 0.9457\n",
            "Epoch 116/232\n",
            "49/49 [==============================] - 77s 2s/step - loss: 0.9561 - accuracy: 0.8565 - val_loss: 0.3977 - val_accuracy: 0.9548\n",
            "Epoch 117/232\n",
            "49/49 [==============================] - 78s 2s/step - loss: 0.9628 - accuracy: 0.8655 - val_loss: 0.3835 - val_accuracy: 0.9525\n",
            "Epoch 118/232\n",
            "49/49 [==============================] - 77s 2s/step - loss: 0.9559 - accuracy: 0.8732 - val_loss: 0.4065 - val_accuracy: 0.9480\n",
            "Epoch 119/232\n",
            "49/49 [==============================] - 78s 2s/step - loss: 0.9427 - accuracy: 0.8665 - val_loss: 0.3867 - val_accuracy: 0.9548\n",
            "Epoch 120/232\n",
            "49/49 [==============================] - 78s 2s/step - loss: 0.9402 - accuracy: 0.8726 - val_loss: 0.4006 - val_accuracy: 0.9593\n",
            "Epoch 121/232\n",
            "49/49 [==============================] - 78s 2s/step - loss: 0.9317 - accuracy: 0.8681 - val_loss: 0.3793 - val_accuracy: 0.9548\n",
            "Epoch 122/232\n",
            "49/49 [==============================] - 77s 2s/step - loss: 0.9456 - accuracy: 0.8661 - val_loss: 0.3950 - val_accuracy: 0.9480\n",
            "Epoch 123/232\n",
            "49/49 [==============================] - 78s 2s/step - loss: 0.9453 - accuracy: 0.8626 - val_loss: 0.3922 - val_accuracy: 0.9480\n",
            "Epoch 124/232\n",
            "49/49 [==============================] - 77s 2s/step - loss: 0.9366 - accuracy: 0.8658 - val_loss: 0.4021 - val_accuracy: 0.9525\n",
            "Epoch 125/232\n",
            "49/49 [==============================] - 78s 2s/step - loss: 0.9364 - accuracy: 0.8655 - val_loss: 0.3916 - val_accuracy: 0.9480\n",
            "Epoch 126/232\n",
            "49/49 [==============================] - 77s 2s/step - loss: 0.9186 - accuracy: 0.8629 - val_loss: 0.3942 - val_accuracy: 0.9525\n",
            "Epoch 127/232\n",
            "49/49 [==============================] - 77s 2s/step - loss: 0.9241 - accuracy: 0.8565 - val_loss: 0.3990 - val_accuracy: 0.9502\n",
            "Epoch 128/232\n",
            "49/49 [==============================] - 75s 2s/step - loss: 0.9188 - accuracy: 0.8639 - val_loss: 0.4021 - val_accuracy: 0.9502\n",
            "Epoch 129/232\n",
            "49/49 [==============================] - 76s 2s/step - loss: 0.9201 - accuracy: 0.8694 - val_loss: 0.3952 - val_accuracy: 0.9434\n",
            "Epoch 130/232\n",
            "49/49 [==============================] - 77s 2s/step - loss: 0.9103 - accuracy: 0.8690 - val_loss: 0.4168 - val_accuracy: 0.9367\n",
            "Epoch 131/232\n",
            "49/49 [==============================] - 78s 2s/step - loss: 0.9170 - accuracy: 0.8600 - val_loss: 0.3786 - val_accuracy: 0.9593\n",
            "Epoch 132/232\n",
            "49/49 [==============================] - 77s 2s/step - loss: 0.9296 - accuracy: 0.8700 - val_loss: 0.3942 - val_accuracy: 0.9502\n",
            "Epoch 133/232\n",
            "49/49 [==============================] - 78s 2s/step - loss: 0.9150 - accuracy: 0.8710 - val_loss: 0.4012 - val_accuracy: 0.9434\n",
            "Epoch 134/232\n",
            "49/49 [==============================] - 77s 2s/step - loss: 0.9195 - accuracy: 0.8684 - val_loss: 0.3961 - val_accuracy: 0.9434\n",
            "Epoch 135/232\n",
            "49/49 [==============================] - 78s 2s/step - loss: 0.9026 - accuracy: 0.8706 - val_loss: 0.4301 - val_accuracy: 0.9253\n",
            "Epoch 136/232\n",
            "49/49 [==============================] - 77s 2s/step - loss: 0.9047 - accuracy: 0.8732 - val_loss: 0.4134 - val_accuracy: 0.9412\n",
            "Epoch 137/232\n",
            "49/49 [==============================] - 78s 2s/step - loss: 0.9053 - accuracy: 0.8755 - val_loss: 0.4184 - val_accuracy: 0.9344\n",
            "Epoch 138/232\n",
            "49/49 [==============================] - 77s 2s/step - loss: 0.9199 - accuracy: 0.8616 - val_loss: 0.4016 - val_accuracy: 0.9434\n",
            "Epoch 139/232\n",
            "49/49 [==============================] - 77s 2s/step - loss: 0.9049 - accuracy: 0.8713 - val_loss: 0.3908 - val_accuracy: 0.9412\n",
            "Epoch 140/232\n",
            "49/49 [==============================] - 77s 2s/step - loss: 0.9137 - accuracy: 0.8597 - val_loss: 0.3763 - val_accuracy: 0.9480\n",
            "Epoch 141/232\n",
            "49/49 [==============================] - 77s 2s/step - loss: 0.8863 - accuracy: 0.8819 - val_loss: 0.3905 - val_accuracy: 0.9434\n",
            "Epoch 142/232\n",
            "49/49 [==============================] - 77s 2s/step - loss: 0.8851 - accuracy: 0.8716 - val_loss: 0.4061 - val_accuracy: 0.9412\n",
            "Epoch 143/232\n",
            "49/49 [==============================] - 77s 2s/step - loss: 0.9213 - accuracy: 0.8619 - val_loss: 0.3842 - val_accuracy: 0.9457\n"
          ]
        }
      ],
      "source": [
        "if USE_WHOLE_DATASET:\n",
        "  ft_history = ft_model.fit(\n",
        "    complete_set,\n",
        "    epochs=ft_model_EPOCHS,\n",
        "    initial_epoch=model_EPOCHS,\n",
        "    class_weight = class_weights_dict\n",
        "  )\n",
        "else:\n",
        "  ft_total_epochs =  model_early_stopping.best_epoch + ft_model_MAX_EPOCHS\n",
        "\n",
        "  ft_early_stopping = tf.keras.callbacks.EarlyStopping(monitor='val_accuracy', mode='max', patience=ft_model_EARLY_STOPPING_PATIENCE, restore_best_weights=True)\n",
        "\n",
        "  ft_history = ft_model.fit(\n",
        "      training_set_cm,\n",
        "      epochs=ft_total_epochs,\n",
        "      initial_epoch=model_early_stopping.best_epoch,\n",
        "      validation_data=validation_set,\n",
        "      callbacks = [ft_early_stopping],\n",
        "      class_weight = class_weights_dict\n",
        "  )"
      ]
    },
    {
      "cell_type": "markdown",
      "metadata": {
        "id": "BtMtKi-TQGG3"
      },
      "source": [
        "Plot the results:"
      ]
    },
    {
      "cell_type": "code",
      "execution_count": null,
      "metadata": {
        "colab": {
          "base_uri": "https://localhost:8080/",
          "height": 513
        },
        "id": "yPUWEMBfLuVH",
        "outputId": "d44f7160-a401-4643-9d95-d36908eee37b"
      },
      "outputs": [
        {
          "data": {
            "image/png": "[encoded data removed]",
            "text/plain": [
              "<Figure size 576x576 with 2 Axes>"
            ]
          },
          "metadata": {
            "needs_background": "light"
          },
          "output_type": "display_data"
        }
      ],
      "source": [
        "acc += ft_history.history['accuracy']\n",
        "if not USE_WHOLE_DATASET:\n",
        "  val_acc += ft_history.history['val_accuracy']\n",
        "\n",
        "loss += ft_history.history['loss']\n",
        "if not USE_WHOLE_DATASET:\n",
        "  val_loss += ft_history.history['val_loss']\n",
        "\n",
        "plt.figure(figsize=(8, 8))\n",
        "plt.subplot(2, 1, 1)\n",
        "plt.plot(acc, label='Training Accuracy')\n",
        "if not USE_WHOLE_DATASET:\n",
        "  plt.plot(val_acc, label='Validation Accuracy')\n",
        "plt.ylim([min(plt.ylim()),1])\n",
        "if not USE_WHOLE_DATASET:\n",
        "  plt.plot([ft_early_stopping.best_epoch,ft_early_stopping.best_epoch],\n",
        "         plt.ylim(), label='Best Epoch')\n",
        "if not USE_WHOLE_DATASET:\n",
        "  plt.plot([model_early_stopping.best_epoch, model_early_stopping.best_epoch],\n",
        "          plt.ylim(), label='Start Fine Tuning')\n",
        "else:\n",
        "  plt.plot([model_EPOCHS, model_EPOCHS],\n",
        "          plt.ylim(), label='Start Fine Tuning')\n",
        "\n",
        "plt.legend(loc='lower right')\n",
        "plt.ylabel('Accuracy')\n",
        "plt.title('Training and Validation Accuracy')\n",
        "\n",
        "plt.subplot(2, 1, 2)\n",
        "plt.plot(loss, label='Training Loss')\n",
        "if not USE_WHOLE_DATASET:\n",
        "  plt.plot(val_loss, label='Validation Loss')\n",
        "plt.ylim([0,max(plt.ylim())])\n",
        "if not USE_WHOLE_DATASET:\n",
        "  plt.plot([ft_early_stopping.best_epoch,ft_early_stopping.best_epoch],\n",
        "         plt.ylim(), label='Best Epoch')\n",
        "if not USE_WHOLE_DATASET:\n",
        "  plt.plot([model_early_stopping.best_epoch, model_early_stopping.best_epoch],\n",
        "          plt.ylim(), label='Start Fine Tuning')\n",
        "else:\n",
        "  plt.plot([model_EPOCHS, model_EPOCHS],\n",
        "          plt.ylim(), label='Start Fine Tuning')\n",
        "plt.legend(loc='upper right')\n",
        "plt.ylabel('Cross Entropy')\n",
        "plt.title('Training and Validation Loss')\n",
        "plt.xlabel('epoch')\n",
        "plt.show()"
      ]
    },
    {
      "cell_type": "markdown",
      "metadata": {
        "id": "0diCpogRrYZa"
      },
      "source": [
        "## Save the model and create submission"
      ]
    },
    {
      "cell_type": "code",
      "execution_count": null,
      "metadata": {
        "id": "He4AuGynQPii"
      },
      "outputs": [],
      "source": [
        "SUBMISSION_DIR = f'submission-{datetime.today().strftime(\"%Y-%m-%d-%H-%M-%S\")}'\n",
        "os.mkdir(SUBMISSION_DIR)\n",
        "\n",
        "with open(os.path.join(SUBMISSION_DIR, \"metadata\"), \"a\") as f:\n",
        "  pass"
      ]
    },
    {
      "cell_type": "markdown",
      "metadata": {
        "id": "LVwlcq56QUDN"
      },
      "source": [
        "We use the Test Time Augmentation ensemble technique to improve the performance of our model.\n",
        "\n",
        "Specifically, this technique involves creating multiple augmented copies of each image in the test set,\n",
        "having the model make a prediction for each, then returning an ensemble of those predictions.\n",
        "\n",
        "In our specific case from each image we create 6 images:\n",
        "- The image itself\n",
        "- An image flipped on the hirizontal axis\n",
        "- 4 images, shifted of 9 pixels (10%), one for each of the 4 directions"
      ]
    },
    {
      "cell_type": "code",
      "execution_count": null,
      "metadata": {
        "id": "d1HPLYPUQY-6"
      },
      "outputs": [],
      "source": [
        "%%writefile $SUBMISSION_DIR/model.py\n",
        "import os\n",
        "\n",
        "import tensorflow as tf\n",
        "import numpy as np\n",
        "\n",
        "\n",
        "class model:\n",
        "    def __init__(self, path):\n",
        "        self.model = tf.keras.models.load_model(os.path.join(path, \"SubmissionModel\"))\n",
        "\n",
        "    def predict(self, X):\n",
        "        \"\"\"\n",
        "        We use the Test Time Augmentation ensemble technique to improve the performance of our model.\n",
        "\n",
        "        Specifically, this technique involves creating multiple augmented copies of each image in the test set,\n",
        "        having the model make a prediction for each, then returning an ensemble of those predictions.\n",
        "\n",
        "        In our specific case from each image we create 6 images:\n",
        "            - The image itself\n",
        "            - An image flipped on the hirizontal axis\n",
        "            - 4 images, shifted of 9 pixels (10%), one for each of the 4 directions\n",
        "        \"\"\"\n",
        "        # In this challange the input (X) should be a tensor but we prepared the file to accept other kinds of inputs\n",
        "        if tf.is_tensor(X):\n",
        "            # We can call directly self.tta_prediction(X) because it will perform the operation on the tensor\n",
        "            yhat = self.tta_prediction(X)\n",
        "            return yhat\n",
        "        elif hasattr(X, \"_batch_size\"):\n",
        "            # X could be a batch so we need to unbatch it\n",
        "            images, _ = tuple(zip(*X.unbatch()))\n",
        "        else:\n",
        "            # General fallback case\n",
        "            images, _ = tuple(zip(*X))\n",
        "\n",
        "        # Perform the tta for every image and return the resulting tensor\n",
        "        yhats = list()\n",
        "        for i in range(len(images)):\n",
        "            yhat = self.tta_prediction(images[i])\n",
        "            yhats.append(yhat)\n",
        "\n",
        "        return tf.convert_to_tensor(yhats)\n",
        "\n",
        "    def tta_prediction(self, image):\n",
        "        images = list(\n",
        "            [\n",
        "                image,\n",
        "                np.flip(image, axis=1),\n",
        "                np.roll(image, -9, axis=0),\n",
        "                np.roll(image, -9, axis=1),\n",
        "                np.roll(image, 9, axis=0),\n",
        "                np.roll(image, 9, axis=1),\n",
        "            ]\n",
        "        )\n",
        "\n",
        "        preds = [self.model.predict(x, verbose=0) for x in images]\n",
        "        sums = tf.reduce_sum(preds, axis=0)\n",
        "        tta_pred = tf.argmax(sums, axis=-1)\n",
        "\n",
        "        return tta_pred"
      ]
    },
    {
      "cell_type": "code",
      "execution_count": null,
      "metadata": {
        "id": "qbkKt_2SQbym"
      },
      "outputs": [],
      "source": [
        "ft_model.save(SUBMISSION_DIR + '/SubmissionModel')\n",
        "make_archive(SUBMISSION_DIR, 'zip', SUBMISSION_DIR)"
      ]
    },
    {
      "cell_type": "code",
      "execution_count": null,
      "metadata": {
        "id": "86iRBjaGQeoQ"
      },
      "outputs": [],
      "source": [
        "if IS_COLAB:\n",
        "  copyfile(SUBMISSION_DIR + '.zip', COLAB_BASE_DIR + SUBMISSION_DIR + '.zip')\n",
        "\n",
        "  # Close colab connection\n",
        "  from google.colab import runtime\n",
        "  runtime.unassign()"
      ]
    }
  ],
  "metadata": {
    "accelerator": "GPU",
    "colab": {
      "provenance": []
    },
    "gpuClass": "standard",
    "kernelspec": {
      "display_name": "Python 3.10.6 64-bit",
      "language": "python",
      "name": "python3"
    },
    "language_info": {
      "name": "python",
      "version": "3.10.6"
    },
    "vscode": {
      "interpreter": {
        "hash": "31a5991ebc5cca442ee8cf0c50383f1a2804994b530e5273691866b285566dce"
      }
    }
  },
  "nbformat": 4,
  "nbformat_minor": 0
}
